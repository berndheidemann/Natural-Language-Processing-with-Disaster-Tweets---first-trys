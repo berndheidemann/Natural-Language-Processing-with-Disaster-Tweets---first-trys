{
 "cells": [
  {
   "cell_type": "code",
   "execution_count": 23,
   "metadata": {},
   "outputs": [],
   "source": [
    "kaggle=False\n",
    "kaggle_path=''\n",
    "local_path='train.csv'\n",
    "\n",
    "import torch\n",
    "import torch.nn as nn\n",
    "import torch.optim as optim\n",
    "from torch.utils.data import DataLoader\n",
    "from torch.nn.utils.rnn import pad_sequence\n",
    "import numpy as np\n",
    "from sklearn.model_selection import train_test_split\n",
    "from torch.utils.data import Dataset\n",
    "import torchtext\n",
    "import pandas as pd\n",
    "import time\n",
    "from torch.utils.data import DataLoader\n",
    "from tqdm.notebook import tqdm"
   ]
  },
  {
   "cell_type": "code",
   "execution_count": 24,
   "metadata": {},
   "outputs": [
    {
     "data": {
      "text/html": [
       "<div>\n",
       "<style scoped>\n",
       "    .dataframe tbody tr th:only-of-type {\n",
       "        vertical-align: middle;\n",
       "    }\n",
       "\n",
       "    .dataframe tbody tr th {\n",
       "        vertical-align: top;\n",
       "    }\n",
       "\n",
       "    .dataframe thead th {\n",
       "        text-align: right;\n",
       "    }\n",
       "</style>\n",
       "<table border=\"1\" class=\"dataframe\">\n",
       "  <thead>\n",
       "    <tr style=\"text-align: right;\">\n",
       "      <th></th>\n",
       "      <th>id</th>\n",
       "      <th>keyword</th>\n",
       "      <th>location</th>\n",
       "      <th>text</th>\n",
       "      <th>target</th>\n",
       "    </tr>\n",
       "  </thead>\n",
       "  <tbody>\n",
       "    <tr>\n",
       "      <th>7606</th>\n",
       "      <td>10866</td>\n",
       "      <td>NaN</td>\n",
       "      <td>NaN</td>\n",
       "      <td>Suicide bomber kills 15 in Saudi security site...</td>\n",
       "      <td>1</td>\n",
       "    </tr>\n",
       "    <tr>\n",
       "      <th>2273</th>\n",
       "      <td>3260</td>\n",
       "      <td>demolish</td>\n",
       "      <td>State of Dreaming</td>\n",
       "      <td>Just us four can demolish this?? @Createduniqu...</td>\n",
       "      <td>0</td>\n",
       "    </tr>\n",
       "    <tr>\n",
       "      <th>4453</th>\n",
       "      <td>6336</td>\n",
       "      <td>hostages</td>\n",
       "      <td>Japan</td>\n",
       "      <td>#hot  C-130 specially modified to land in a st...</td>\n",
       "      <td>1</td>\n",
       "    </tr>\n",
       "    <tr>\n",
       "      <th>4003</th>\n",
       "      <td>5686</td>\n",
       "      <td>floods</td>\n",
       "      <td>Cameroon</td>\n",
       "      <td>Bamenda Floods Kill Animals Birds - http://t.c...</td>\n",
       "      <td>1</td>\n",
       "    </tr>\n",
       "    <tr>\n",
       "      <th>6336</th>\n",
       "      <td>9058</td>\n",
       "      <td>structural%20failure</td>\n",
       "      <td>india</td>\n",
       "      <td>3. excessive engine failure rate significant m...</td>\n",
       "      <td>0</td>\n",
       "    </tr>\n",
       "  </tbody>\n",
       "</table>\n",
       "</div>"
      ],
      "text/plain": [
       "         id               keyword           location  \\\n",
       "7606  10866                   NaN                NaN   \n",
       "2273   3260              demolish  State of Dreaming   \n",
       "4453   6336              hostages              Japan   \n",
       "4003   5686                floods           Cameroon   \n",
       "6336   9058  structural%20failure              india   \n",
       "\n",
       "                                                   text  target  \n",
       "7606  Suicide bomber kills 15 in Saudi security site...       1  \n",
       "2273  Just us four can demolish this?? @Createduniqu...       0  \n",
       "4453  #hot  C-130 specially modified to land in a st...       1  \n",
       "4003  Bamenda Floods Kill Animals Birds - http://t.c...       1  \n",
       "6336  3. excessive engine failure rate significant m...       0  "
      ]
     },
     "execution_count": 24,
     "metadata": {},
     "output_type": "execute_result"
    }
   ],
   "source": [
    "df=pd.read_csv(kaggle_path if kaggle else local_path)\n",
    "df.sample(5)"
   ]
  },
  {
   "cell_type": "code",
   "execution_count": 25,
   "metadata": {},
   "outputs": [
    {
     "data": {
      "text/plain": [
       "array([1, 0])"
      ]
     },
     "execution_count": 25,
     "metadata": {},
     "output_type": "execute_result"
    }
   ],
   "source": [
    "df.target.unique()"
   ]
  },
  {
   "cell_type": "code",
   "execution_count": 26,
   "metadata": {},
   "outputs": [
    {
     "name": "stdout",
     "output_type": "stream",
     "text": [
      "vocab size: 22877\n"
     ]
    }
   ],
   "source": [
    "import spacy\n",
    "nlp = spacy.load('en_core_web_sm')\n",
    "\n",
    "# Tokenizer-Funktion\n",
    "def tokenizer(text):\n",
    "    # use spacey for tokenization\n",
    "    return [tok.text for tok in nlp.tokenizer(text)]\n",
    "\n",
    "# Vokabular erstellen\n",
    "def build_vocab(texts, vocab_size=None):\n",
    "    word_to_idx = {}\n",
    "    for text in texts:\n",
    "        tokens = tokenizer(text)\n",
    "        for token in tokens:\n",
    "            if token not in word_to_idx:\n",
    "                word_to_idx[token] = len(word_to_idx)\n",
    "                \n",
    "    if vocab_size is not None:\n",
    "        word_to_idx = {k: v for k, v in sorted(word_to_idx.items(), key=lambda item: item[1])[:vocab_size]}\n",
    "    return word_to_idx\n",
    "    \n",
    "    \n",
    "    \n",
    "# Texte in Sequenzen von Wortindizes umwandeln\n",
    "def text_to_indices(text, word_to_idx):\n",
    "    tokens = tokenizer(text)\n",
    "    indices = [word_to_idx[token] if token in word_to_idx else 0 for token in tokens]\n",
    "    return indices\n",
    "\n",
    "# Hyperparameter\n",
    "vocab_size = None  # infinite vocab\n",
    "word_count = 200\n",
    "embedding_dim = 128\n",
    "hidden_dim = 256\n",
    "num_layers = 2\n",
    "num_classes = 2\n",
    "batch_size = 32\n",
    "\n",
    "num_epochs = 2\n",
    "\n",
    "# Aufteilung in Trainings- und Testdaten\n",
    "train_df, test_df = train_test_split(df, test_size=0.2, random_state=42)\n",
    "\n",
    "# Erstellung des Vokabulars\n",
    "texts = train_df['text'].tolist()\n",
    "word_to_idx = build_vocab(texts)\n",
    "vocab_size=len(word_to_idx)\n",
    "print(\"vocab size:\", vocab_size)"
   ]
  },
  {
   "cell_type": "code",
   "execution_count": 27,
   "metadata": {},
   "outputs": [
    {
     "data": {
      "text/plain": [
       "[1636, 98, 24, 9216, 0]"
      ]
     },
     "execution_count": 27,
     "metadata": {},
     "output_type": "execute_result"
    }
   ],
   "source": [
    "def text_pipeline(x):                           \n",
    "    return text_to_indices(x, word_to_idx)\n",
    "\n",
    "text_pipeline(\"This is a test sentence\")"
   ]
  },
  {
   "cell_type": "code",
   "execution_count": 31,
   "metadata": {},
   "outputs": [
    {
     "name": "stdout",
     "output_type": "stream",
     "text": [
      "tensor([12467,    44,  2349,    98,  4869,  6118,     1,   516,  2020,  2249,\n",
      "          369, 16859,    69,    24, 20435,     1,  5155,    69, 20436,   119,\n",
      "           24,  1272, 20437])\n",
      "tensor(0)\n"
     ]
    }
   ],
   "source": [
    "class DisasterTweetsDataset(Dataset):\n",
    "    def __init__(self, df, vocab_size=10000, test=False):\n",
    "        self.df = df\n",
    "        self.vocab_size = vocab_size\n",
    "        self.test = test\n",
    "        \n",
    "    def __len__(self):\n",
    "        return len(self.df)\n",
    "    \n",
    "    def __getitem__(self, idx):\n",
    "        x= self.df.iloc[idx][\"text\"]\n",
    "        if not self.test:\n",
    "            y= self.df.iloc[idx][\"target\"]\n",
    "            y = int(y)\n",
    "            y= torch.tensor(y, dtype=torch.long)\n",
    "        x = text_pipeline(x)\n",
    "        x = torch.tensor(x)\n",
    "        if not self.test:\n",
    "            return x, y\n",
    "        return x\n",
    "    \n",
    "disaster_tweets_dataset = DisasterTweetsDataset(df, vocab_size=vocab_size)\n",
    "x,y=disaster_tweets_dataset[2000]\n",
    "print(x)\n",
    "print(y)"
   ]
  },
  {
   "cell_type": "code",
   "execution_count": 32,
   "metadata": {},
   "outputs": [
    {
     "name": "stdout",
     "output_type": "stream",
     "text": [
      "Tweet 0:' Forest fire near La Ronge Sask. Canada ' |  target 1\n",
      "Tweet 1:' Forest fire near La Ronge Sask. Canada ' |  target 1\n",
      "(tensor([   71, 14891,   866,    44,  7906,     4,   110,    13,  2904,  2090,\n",
      "            0,     0,   227,   343,   439,   495,   554,  2356, 17024, 17025,\n",
      "           12,  8618]), tensor([ 0, 14]), tensor([1, 1]))\n"
     ]
    }
   ],
   "source": [
    "def collate_batch(batch):\n",
    "    x,y = zip(*batch)\n",
    "    # collate for embedding bag\n",
    "    offsets = [0] + [len(x_i) for x_i in x]\n",
    "    offsets = torch.tensor(offsets[:-1]).cumsum(dim=0)\n",
    "    x = torch.cat(x)\n",
    "    y = torch.stack(y)\n",
    "    return x, offsets, y\n",
    "\n",
    "# test custom collate function\n",
    "print(\"Tweet 0:'\", df.iloc[0].text, \"' |  target\", df.iloc[0].target)\n",
    "print(\"Tweet 1:'\", df.iloc[1].text, \"' |  target\", df.iloc[1].target)\n",
    "print(collate_batch([disaster_tweets_dataset[0], disaster_tweets_dataset[1]]))"
   ]
  },
  {
   "cell_type": "code",
   "execution_count": 13,
   "metadata": {},
   "outputs": [
    {
     "data": {
      "text/plain": [
       "tensor([[ 0.1460, -0.0646]], grad_fn=<AddmmBackward0>)"
      ]
     },
     "execution_count": 13,
     "metadata": {},
     "output_type": "execute_result"
    }
   ],
   "source": [
    "\n",
    "from torch import nn\n",
    "import torch.nn.init as init\n",
    "\n",
    "class TextClassificationModel(nn.Module):\n",
    "\n",
    "    def __init__(self, vocab_size, embed_dim, num_class):\n",
    "        super(TextClassificationModel, self).__init__()\n",
    "        self.embedding = nn.EmbeddingBag(vocab_size, embed_dim, sparse=True)  # sparse means: \n",
    "        self.fc = nn.Linear(embed_dim, 30)\n",
    "        self.dropout = nn.Dropout(0.5)\n",
    "        self.fc2= nn.Linear(30, num_class)\n",
    "        self.init_weights()\n",
    "\n",
    "    def init_weights(self):\n",
    "        initrange = 0.5\n",
    "        # uniform initialisation for the embedding layer\n",
    "        self.embedding.weight.data.uniform_(-initrange, initrange)\n",
    "        #self.fc.weight.data.uniform_(-initrange, initrange)\n",
    "        #self.fc.bias.data.zero_()\n",
    "        \n",
    "        # He initialisation for the weights of the fully connected layer\n",
    "        for m in self.modules():\n",
    "            if isinstance(m, nn.Linear):\n",
    "                init.kaiming_normal_(m.weight, mode='fan_in', nonlinearity='relu')\n",
    "                if m.bias is not None:\n",
    "                    m.bias.data.fill_(0.0)\n",
    "\n",
    "    def forward(self, text, offsets):\n",
    "        embedded = self.embedding(text, offsets)\n",
    "        out=self.fc(embedded)\n",
    "        out=self.dropout(out)\n",
    "        # relu\n",
    "        out=nn.ReLU()(out)\n",
    "        return self.fc2(out)\n",
    "    \n",
    "# test model\n",
    "model = TextClassificationModel(vocab_size, embedding_dim, num_classes)\n",
    "model(x, torch.tensor([0]))\n"
   ]
  },
  {
   "cell_type": "markdown",
   "metadata": {},
   "source": [
    "Initializing weights in a neural network, including an embedding layer like nn.EmbeddingBag in PyTorch, is a crucial step in preparing the model for training. The init_weights method in your TextClassificationModel class plays a significant role in this process. Here's why it's important:\n",
    "\n",
    "* Breaking Symmetry: When a network starts with all weights having the same value, learning can be inefficient or even stall completely. Different initial weights allow for symmetry breaking, ensuring that different neurons can learn different functions.\n",
    "* Improving Convergence: Proper initialization can speed up the convergence of the training process by starting the optimization closer to the optimal solution. Bad initialization can lead to slower convergence or getting stuck in suboptimal minima.\n",
    "* Control of Variance: In deep networks, it's important to control the variance of activations and gradients as they pass through the layers. If the variance is too high, you might encounter exploding gradients; if it's too low, vanishing gradients can occur. Good initialization keeps the variance in a reasonable range.\n",
    "* Embedding Specifics: For embedding layers, like nn.EmbeddingBag, initialization is particularly important because they map discrete input (like words) into continuous vectors. The initial values of these vectors can determine how effectively the model learns the relationships between different inputs. A uniform distribution, as used in your init_weights method, is a common choice. It assigns a wide range of different values to the embedding weights, encouraging the model to explore a diverse set of representations.\n",
    "* Sparse Embeddings: You're using a sparse embedding (sparse=True), which is often used for memory efficiency with large vocabularies. Sparse embeddings can have different optimization dynamics compared to dense embeddings, and initializing them properly can be even more crucial to ensure that the sparse gradients are effective in updating the weights.\n",
    "* Consistency and Reproducibility: By initializing weights in a controlled manner (like using a fixed range in your case), you can have more consistent results across different runs, which is important for debugging and comparing different models."
   ]
  },
  {
   "cell_type": "code",
   "execution_count": 14,
   "metadata": {},
   "outputs": [
    {
     "name": "stdout",
     "output_type": "stream",
     "text": [
      "x:  tensor([    0,  6287,    54,    54,   235,  2349,   962,   847,   313,  3593,\n",
      "          300,   140, 10264,     0,     0,   460,  3369,   322,     0,  1521,\n",
      "          614, 16361,   132,     0,   619,     0,     0,  6511,   751,  6512,\n",
      "         6513,    43,    44,  6514,   305,   516,   322,  1027,  6515,   432,\n",
      "          751,   751,  1318,  6516,  1692,  6517,   137,   132,   486,   101,\n",
      "         2392,  4794,  1339,    10,    44,  2258,   409,    44,  2065])\n",
      "offsets:  tensor([ 0, 11, 27, 46])\n",
      "y:  tensor([0, 0, 0, 1])\n",
      "model output:  tensor([[-0.1135,  0.0624],\n",
      "        [-0.0550,  0.0823],\n",
      "        [ 0.0027, -0.0408],\n",
      "        [-0.0350, -0.0073]], grad_fn=<AddmmBackward0>)\n",
      "End Batch\n",
      "\n",
      "\n",
      "\n",
      "x:  tensor([   0,   24,  364, 5792,   67,   38,  681,   38,    0,    0, 1330,    1,\n",
      "        4168,  235, 3941,  343,   92, 1252,   10, 4356,   41,  156, 7306, 5833,\n",
      "        1418, 1419, 7307,   13, 7308,   13, 2563, 4557,  212, 1253, 2937,   10,\n",
      "        5626,   67,  546, 4944,  119, 2603, 1251,   24, 5627, 4389,   85,  347,\n",
      "          24,   95, 5628,   13,  855,  140, 1084, 1061, 1966,   10,  696,    4,\n",
      "         283, 1545,    1,  883,  235,  223,  794, 4388,   10,  736,   69,  505,\n",
      "         673, 1083,  283,  870,   12,   13, 8602,   64,   64,   64,   64])\n",
      "offsets:  tensor([ 0, 10, 29, 53])\n",
      "y:  tensor([0, 1, 1, 1])\n",
      "model output:  tensor([[ 0.8949,  0.2901],\n",
      "        [-0.1683, -0.1046],\n",
      "        [ 0.1426,  0.0385],\n",
      "        [ 0.1562, -0.0400]], grad_fn=<AddmmBackward0>)\n",
      "End Batch\n",
      "\n",
      "\n",
      "\n",
      "x:  tensor([    0,    67,  5533,   132,   522,   308,    27,   331,  3588,   132,\n",
      "         1279,     0,     0, 11157,   110,  8585,  1079,  4855,  4681,    10,\n",
      "          126,   591,   522,  1084,    95])\n",
      "offsets:  tensor([ 0, 13])\n",
      "y:  tensor([0, 0])\n",
      "model output:  tensor([[-0.1281,  0.2507],\n",
      "        [ 0.5091,  0.0132]], grad_fn=<AddmmBackward0>)\n",
      "End Batch\n",
      "\n",
      "\n",
      "\n"
     ]
    }
   ],
   "source": [
    "# test all together\n",
    "df_to_test=df.sample(10)\n",
    "dataset_to_test = DisasterTweetsDataset(df_to_test, vocab_size=vocab_size)\n",
    "dataloader_to_test = DataLoader(dataset_to_test, batch_size=4, shuffle=True, collate_fn=collate_batch)\n",
    "for x, offsets, y in dataloader_to_test:\n",
    "    print(\"x: \", x)\n",
    "    print(\"offsets: \", offsets)\n",
    "    print(\"y: \", y)\n",
    "    print(\"model output: \" , model(x, offsets))\n",
    "    print(\"End Batch\\n\\n\\n\")"
   ]
  },
  {
   "cell_type": "code",
   "execution_count": 15,
   "metadata": {},
   "outputs": [],
   "source": [
    "def evaluate(model, dataloader):\n",
    "    model.eval()\n",
    "    total_acc, total_count = 0, 0\n",
    "    with torch.no_grad():\n",
    "        for idx, (x, offsets, y) in enumerate(dataloader):\n",
    "            predicted_label = model(x, offsets)\n",
    "            total_acc += (predicted_label.argmax(1) == y).sum().item()\n",
    "            total_count += y.size(0)\n",
    "    return total_acc/total_count"
   ]
  },
  {
   "cell_type": "code",
   "execution_count": 16,
   "metadata": {},
   "outputs": [
    {
     "name": "stdout",
     "output_type": "stream",
     "text": [
      "-----------------------------------------------------------\n",
      "| end of epoch   1 | time:  1.28s | train accuracy    0.626 | valid accuracy    0.637 | lr: 1.00\n",
      "-----------------------------------------------------------\n",
      "| end of epoch   2 | time:  1.19s | train accuracy    0.708 | valid accuracy    0.672 | lr: 1.00\n",
      "-----------------------------------------------------------\n",
      "| end of epoch   3 | time:  1.14s | train accuracy    0.710 | valid accuracy    0.716 | lr: 1.00\n",
      "-----------------------------------------------------------\n",
      "| end of epoch   4 | time:  1.18s | train accuracy    0.734 | valid accuracy    0.719 | lr: 0.90\n",
      "-----------------------------------------------------------\n",
      "| end of epoch   5 | time:  1.14s | train accuracy    0.610 | valid accuracy    0.601 | lr: 0.90\n",
      "-----------------------------------------------------------\n",
      "| end of epoch   6 | time:  1.18s | train accuracy    0.786 | valid accuracy    0.745 | lr: 0.90\n",
      "-----------------------------------------------------------\n",
      "| end of epoch   7 | time:  1.16s | train accuracy    0.807 | valid accuracy    0.757 | lr: 0.81\n",
      "-----------------------------------------------------------\n",
      "| end of epoch   8 | time:  1.17s | train accuracy    0.817 | valid accuracy    0.760 | lr: 0.81\n",
      "-----------------------------------------------------------\n",
      "| end of epoch   9 | time:  1.16s | train accuracy    0.831 | valid accuracy    0.770 | lr: 0.81\n",
      "-----------------------------------------------------------\n",
      "| end of epoch  10 | time:  1.20s | train accuracy    0.846 | valid accuracy    0.778 | lr: 0.73\n",
      "-----------------------------------------------------------\n",
      "| end of epoch  11 | time:  1.17s | train accuracy    0.858 | valid accuracy    0.785 | lr: 0.73\n",
      "-----------------------------------------------------------\n",
      "| end of epoch  12 | time:  1.20s | train accuracy    0.739 | valid accuracy    0.661 | lr: 0.73\n",
      "-----------------------------------------------------------\n",
      "| end of epoch  13 | time:  1.19s | train accuracy    0.755 | valid accuracy    0.651 | lr: 0.66\n",
      "-----------------------------------------------------------\n",
      "| end of epoch  14 | time:  1.19s | train accuracy    0.813 | valid accuracy    0.749 | lr: 0.66\n",
      "-----------------------------------------------------------\n",
      "| end of epoch  15 | time:  1.14s | train accuracy    0.898 | valid accuracy    0.781 | lr: 0.66\n"
     ]
    },
    {
     "data": {
      "image/png": "[encoded data removed]",
      "text/plain": [
       "<Figure size 640x480 with 1 Axes>"
      ]
     },
     "metadata": {},
     "output_type": "display_data"
    }
   ],
   "source": [
    "# Hyperparameters\n",
    "EPOCHS = 15 # epoch\n",
    "LR = 1  # learning rate\n",
    "BATCH_SIZE = 64 # batch size for training\n",
    "embedding_dim = 128\n",
    "num_classes = 2\n",
    "\n",
    "\n",
    "model = TextClassificationModel(vocab_size, embedding_dim, num_classes)\n",
    "\n",
    "train_dataset=DisasterTweetsDataset(train_df, vocab_size=vocab_size)\n",
    "train_dataloader = DataLoader(train_dataset, batch_size=BATCH_SIZE,\n",
    "                              shuffle=True, collate_fn=collate_batch)\n",
    "valid_dataset=DisasterTweetsDataset(test_df, vocab_size=vocab_size)\n",
    "valid_dataloader = DataLoader(valid_dataset, batch_size=BATCH_SIZE, collate_fn=collate_batch)\n",
    "\n",
    "loss_func = torch.nn.CrossEntropyLoss()\n",
    "#\n",
    "optimizer = torch.optim.SGD(model.parameters(), lr=LR)\n",
    "scheduler = torch.optim.lr_scheduler.StepLR(optimizer, 3.0, gamma=0.9)   # every 3 epochs, LR is multiplied by 0.7\n",
    "total_accu = None\n",
    "\n",
    "train_accus=[]\n",
    "valid_accus=[]\n",
    "\n",
    "\n",
    "for epoch in range(1, EPOCHS + 1):\n",
    "    epoch_start_time = time.time()\n",
    "    model.train()\n",
    "    total_acc, total_count = 0, 0\n",
    "\n",
    "    for idx, (x, offsets, y) in enumerate(train_dataloader):\n",
    "        optimizer.zero_grad()\n",
    "       \n",
    "        predicted_label = model(x, offsets)\n",
    "        loss = loss_func(predicted_label, y)\n",
    "        loss.backward()\n",
    "        # torch.nn.utils.clip_grad_norm_(model.parameters(), 0.1)\n",
    "        optimizer.step()\n",
    "\n",
    "    accu_train = evaluate(model, train_dataloader)\n",
    "    accu_valid = evaluate(model, valid_dataloader)\n",
    "    train_accus.append(accu_train)\n",
    "    valid_accus.append(accu_valid)\n",
    "    print('-' * 59)\n",
    "    print('| end of epoch {:3d} | time: {:5.2f}s | train accuracy {:8.3f} | valid accuracy {:8.3f} | lr: {:1.2f}'.format(\n",
    "                                epoch,\n",
    "                                time.time() - epoch_start_time,\n",
    "                                accu_train, \n",
    "                                accu_valid, \n",
    "                                scheduler.get_last_lr()[0]))\n",
    "\n",
    "    scheduler.step() # learning rate scheduler after each epoch\n",
    "\n",
    "\n",
    "\n",
    "import matplotlib.pyplot as plt\n",
    "plt.plot(train_accus, label='train_accu')\n",
    "plt.plot(valid_accus, label='valid_accu')\n",
    "plt.legend()\n",
    "plt.show()"
   ]
  },
  {
   "cell_type": "code",
   "execution_count": 17,
   "metadata": {},
   "outputs": [
    {
     "data": {
      "text/html": [
       "<div>\n",
       "<style scoped>\n",
       "    .dataframe tbody tr th:only-of-type {\n",
       "        vertical-align: middle;\n",
       "    }\n",
       "\n",
       "    .dataframe tbody tr th {\n",
       "        vertical-align: top;\n",
       "    }\n",
       "\n",
       "    .dataframe thead th {\n",
       "        text-align: right;\n",
       "    }\n",
       "</style>\n",
       "<table border=\"1\" class=\"dataframe\">\n",
       "  <thead>\n",
       "    <tr style=\"text-align: right;\">\n",
       "      <th></th>\n",
       "      <th>id</th>\n",
       "      <th>keyword</th>\n",
       "      <th>location</th>\n",
       "      <th>text</th>\n",
       "    </tr>\n",
       "  </thead>\n",
       "  <tbody>\n",
       "    <tr>\n",
       "      <th>3004</th>\n",
       "      <td>9926</td>\n",
       "      <td>trouble</td>\n",
       "      <td>Lansing ?? Ypsilanti</td>\n",
       "      <td>Must black folks don't wanna stir up trouble ....</td>\n",
       "    </tr>\n",
       "    <tr>\n",
       "      <th>2935</th>\n",
       "      <td>9721</td>\n",
       "      <td>tragedy</td>\n",
       "      <td>http://www.amazon.com/dp/B00HR</td>\n",
       "      <td>'1 Death is a tragedy; a million Deaths is a s...</td>\n",
       "    </tr>\n",
       "    <tr>\n",
       "      <th>2276</th>\n",
       "      <td>7597</td>\n",
       "      <td>pandemonium</td>\n",
       "      <td>LND Greatest City In the World</td>\n",
       "      <td>What scenes at Trent Bridge England could win ...</td>\n",
       "    </tr>\n",
       "    <tr>\n",
       "      <th>1667</th>\n",
       "      <td>5623</td>\n",
       "      <td>flooding</td>\n",
       "      <td>NaN</td>\n",
       "      <td>Awh damn  I just realized yall gone flooding m...</td>\n",
       "    </tr>\n",
       "    <tr>\n",
       "      <th>434</th>\n",
       "      <td>1404</td>\n",
       "      <td>body%20bag</td>\n",
       "      <td>Dalton</td>\n",
       "      <td>http://t.co/3d2h2wOQwa NEW! DIESEL WILLYT Prin...</td>\n",
       "    </tr>\n",
       "  </tbody>\n",
       "</table>\n",
       "</div>"
      ],
      "text/plain": [
       "        id      keyword                        location  \\\n",
       "3004  9926      trouble           Lansing ?? Ypsilanti    \n",
       "2935  9721      tragedy  http://www.amazon.com/dp/B00HR   \n",
       "2276  7597  pandemonium  LND Greatest City In the World   \n",
       "1667  5623     flooding                             NaN   \n",
       "434   1404   body%20bag                          Dalton   \n",
       "\n",
       "                                                   text  \n",
       "3004  Must black folks don't wanna stir up trouble ....  \n",
       "2935  '1 Death is a tragedy; a million Deaths is a s...  \n",
       "2276  What scenes at Trent Bridge England could win ...  \n",
       "1667  Awh damn  I just realized yall gone flooding m...  \n",
       "434   http://t.co/3d2h2wOQwa NEW! DIESEL WILLYT Prin...  "
      ]
     },
     "execution_count": 17,
     "metadata": {},
     "output_type": "execute_result"
    }
   ],
   "source": [
    "local_test_path='test.csv'\n",
    "kaggle_test_path=''\n",
    "\n",
    "df_submission_test_data=pd.read_csv(kaggle_test_path if kaggle else local_test_path)\n",
    "df_submission_test_data.sample(5)\n"
   ]
  },
  {
   "cell_type": "code",
   "execution_count": 18,
   "metadata": {},
   "outputs": [],
   "source": [
    "def collate_batch_test_data(batch):\n",
    "    x = batch\n",
    "    # collate for embedding bag\n",
    "    offsets = [0] + [len(x_i) for x_i in x]\n",
    "    offsets = torch.tensor(offsets[:-1]).cumsum(dim=0)\n",
    "    x = torch.cat(x)\n",
    "    return x, offsets"
   ]
  },
  {
   "cell_type": "code",
   "execution_count": 19,
   "metadata": {},
   "outputs": [],
   "source": [
    "model.eval()\n",
    "preds=[]\n",
    "test_dataset=DisasterTweetsDataset(df_submission_test_data, vocab_size=vocab_size, test=True)\n",
    "test_dataloader = DataLoader(test_dataset, batch_size=BATCH_SIZE, collate_fn=collate_batch_test_data)\n",
    "with torch.no_grad():\n",
    "    for idx, (x, offsets) in enumerate(test_dataloader):\n",
    "        predicted_label = model(x, offsets)\n",
    "        preds.extend(predicted_label.argmax(1).tolist())\n",
    "\n",
    "df_submission_test_data[\"target\"]=preds\n",
    "df_submission_test_data[[\"id\", \"target\"]].to_csv(\"submission.csv\", index=False)"
   ]
  },
  {
   "cell_type": "code",
   "execution_count": 20,
   "metadata": {},
   "outputs": [],
   "source": [
    "# Score: 0.65675"
   ]
  }
 ],
 "metadata": {
  "kernelspec": {
   "display_name": "torch_ds",
   "language": "python",
   "name": "python3"
  },
  "language_info": {
   "codemirror_mode": {
    "name": "ipython",
    "version": 3
   },
   "file_extension": ".py",
   "mimetype": "text/x-python",
   "name": "python",
   "nbconvert_exporter": "python",
   "pygments_lexer": "ipython3",
   "version": "3.10.9"
  }
 },
 "nbformat": 4,
 "nbformat_minor": 2
}
