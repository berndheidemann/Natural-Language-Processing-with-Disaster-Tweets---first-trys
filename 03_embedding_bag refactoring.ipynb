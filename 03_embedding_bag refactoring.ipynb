{
 "cells": [
  {
   "cell_type": "code",
   "execution_count": 31,
   "metadata": {},
   "outputs": [],
   "source": [
    "kaggle=False\n",
    "kaggle_path=''\n",
    "local_path='train.csv'\n",
    "\n",
    "import torch\n",
    "import torch.nn as nn\n",
    "import torch.optim as optim\n",
    "from torch.utils.data import DataLoader\n",
    "from torch.nn.utils.rnn import pad_sequence\n",
    "import numpy as np\n",
    "from sklearn.model_selection import train_test_split\n",
    "from torch.utils.data import Dataset\n",
    "import torchtext\n",
    "import pandas as pd\n",
    "import time\n",
    "from torch.utils.data import DataLoader\n",
    "from tqdm.notebook import tqdm\n",
    "import matplotlib.pyplot as plt"
   ]
  },
  {
   "cell_type": "code",
   "execution_count": 32,
   "metadata": {},
   "outputs": [
    {
     "data": {
      "text/html": [
       "<div>\n",
       "<style scoped>\n",
       "    .dataframe tbody tr th:only-of-type {\n",
       "        vertical-align: middle;\n",
       "    }\n",
       "\n",
       "    .dataframe tbody tr th {\n",
       "        vertical-align: top;\n",
       "    }\n",
       "\n",
       "    .dataframe thead th {\n",
       "        text-align: right;\n",
       "    }\n",
       "</style>\n",
       "<table border=\"1\" class=\"dataframe\">\n",
       "  <thead>\n",
       "    <tr style=\"text-align: right;\">\n",
       "      <th></th>\n",
       "      <th>id</th>\n",
       "      <th>keyword</th>\n",
       "      <th>location</th>\n",
       "      <th>text</th>\n",
       "      <th>target</th>\n",
       "    </tr>\n",
       "  </thead>\n",
       "  <tbody>\n",
       "    <tr>\n",
       "      <th>0</th>\n",
       "      <td>1</td>\n",
       "      <td>NaN</td>\n",
       "      <td>NaN</td>\n",
       "      <td>Our Deeds are the Reason of this #earthquake M...</td>\n",
       "      <td>1</td>\n",
       "    </tr>\n",
       "    <tr>\n",
       "      <th>1</th>\n",
       "      <td>4</td>\n",
       "      <td>NaN</td>\n",
       "      <td>NaN</td>\n",
       "      <td>Forest fire near La Ronge Sask. Canada</td>\n",
       "      <td>1</td>\n",
       "    </tr>\n",
       "    <tr>\n",
       "      <th>2</th>\n",
       "      <td>5</td>\n",
       "      <td>NaN</td>\n",
       "      <td>NaN</td>\n",
       "      <td>All residents asked to 'shelter in place' are ...</td>\n",
       "      <td>1</td>\n",
       "    </tr>\n",
       "    <tr>\n",
       "      <th>3</th>\n",
       "      <td>6</td>\n",
       "      <td>NaN</td>\n",
       "      <td>NaN</td>\n",
       "      <td>13,000 people receive #wildfires evacuation or...</td>\n",
       "      <td>1</td>\n",
       "    </tr>\n",
       "    <tr>\n",
       "      <th>4</th>\n",
       "      <td>7</td>\n",
       "      <td>NaN</td>\n",
       "      <td>NaN</td>\n",
       "      <td>Just got sent this photo from Ruby #Alaska as ...</td>\n",
       "      <td>1</td>\n",
       "    </tr>\n",
       "  </tbody>\n",
       "</table>\n",
       "</div>"
      ],
      "text/plain": [
       "   id keyword location                                               text  \\\n",
       "0   1     NaN      NaN  Our Deeds are the Reason of this #earthquake M...   \n",
       "1   4     NaN      NaN             Forest fire near La Ronge Sask. Canada   \n",
       "2   5     NaN      NaN  All residents asked to 'shelter in place' are ...   \n",
       "3   6     NaN      NaN  13,000 people receive #wildfires evacuation or...   \n",
       "4   7     NaN      NaN  Just got sent this photo from Ruby #Alaska as ...   \n",
       "\n",
       "   target  \n",
       "0       1  \n",
       "1       1  \n",
       "2       1  \n",
       "3       1  \n",
       "4       1  "
      ]
     },
     "execution_count": 32,
     "metadata": {},
     "output_type": "execute_result"
    }
   ],
   "source": [
    "\n",
    "df=pd.read_csv(kaggle_path if kaggle else local_path)\n",
    "df.head(5)"
   ]
  },
  {
   "cell_type": "code",
   "execution_count": 33,
   "metadata": {},
   "outputs": [
    {
     "data": {
      "text/plain": [
       "890      26\n",
       "1678     49\n",
       "6358    185\n",
       "3279     95\n",
       "5332    155\n",
       "Name: keyword, dtype: int64"
      ]
     },
     "execution_count": 33,
     "metadata": {},
     "output_type": "execute_result"
    }
   ],
   "source": [
    "# label encoding of keyword using sklearn\n",
    "from sklearn.preprocessing import LabelEncoder\n",
    "le = LabelEncoder()\n",
    "df['keyword'] = le.fit_transform(df['keyword'].fillna(''))\n",
    "df['keyword'].sample(5)"
   ]
  },
  {
   "cell_type": "code",
   "execution_count": 34,
   "metadata": {},
   "outputs": [
    {
     "data": {
      "text/plain": [
       "222"
      ]
     },
     "execution_count": 34,
     "metadata": {},
     "output_type": "execute_result"
    }
   ],
   "source": [
    "df['keyword'].nunique()"
   ]
  },
  {
   "cell_type": "code",
   "execution_count": 35,
   "metadata": {},
   "outputs": [
    {
     "data": {
      "text/plain": [
       "array([1, 0])"
      ]
     },
     "execution_count": 35,
     "metadata": {},
     "output_type": "execute_result"
    }
   ],
   "source": [
    "df.target.unique()"
   ]
  },
  {
   "cell_type": "code",
   "execution_count": 36,
   "metadata": {},
   "outputs": [
    {
     "data": {
      "text/html": [
       "<div>\n",
       "<style scoped>\n",
       "    .dataframe tbody tr th:only-of-type {\n",
       "        vertical-align: middle;\n",
       "    }\n",
       "\n",
       "    .dataframe tbody tr th {\n",
       "        vertical-align: top;\n",
       "    }\n",
       "\n",
       "    .dataframe thead th {\n",
       "        text-align: right;\n",
       "    }\n",
       "</style>\n",
       "<table border=\"1\" class=\"dataframe\">\n",
       "  <thead>\n",
       "    <tr style=\"text-align: right;\">\n",
       "      <th></th>\n",
       "      <th>id</th>\n",
       "      <th>keyword</th>\n",
       "      <th>location</th>\n",
       "      <th>text</th>\n",
       "      <th>target</th>\n",
       "    </tr>\n",
       "  </thead>\n",
       "  <tbody>\n",
       "    <tr>\n",
       "      <th>275</th>\n",
       "      <td>401</td>\n",
       "      <td>8</td>\n",
       "      <td>NaN</td>\n",
       "      <td>RT: janenelson097: RT StephenSCIFI: Adaptation...</td>\n",
       "      <td>0</td>\n",
       "    </tr>\n",
       "    <tr>\n",
       "      <th>1019</th>\n",
       "      <td>1480</td>\n",
       "      <td>30</td>\n",
       "      <td>Oklahoma City</td>\n",
       "      <td>Micom 2015 Summer Contrast Candy Color Bowknot...</td>\n",
       "      <td>0</td>\n",
       "    </tr>\n",
       "    <tr>\n",
       "      <th>4318</th>\n",
       "      <td>6132</td>\n",
       "      <td>124</td>\n",
       "      <td>NaN</td>\n",
       "      <td>The Prophet (peace be upon him) said 'Save you...</td>\n",
       "      <td>1</td>\n",
       "    </tr>\n",
       "    <tr>\n",
       "      <th>2554</th>\n",
       "      <td>3662</td>\n",
       "      <td>74</td>\n",
       "      <td>Jerseyville, IL</td>\n",
       "      <td>Dem FLATLINERS who destroy creativity-balance-...</td>\n",
       "      <td>1</td>\n",
       "    </tr>\n",
       "    <tr>\n",
       "      <th>6916</th>\n",
       "      <td>9918</td>\n",
       "      <td>203</td>\n",
       "      <td>Indiana, USA</td>\n",
       "      <td>@BadAstronomer ...I have a lot of trouble gett...</td>\n",
       "      <td>0</td>\n",
       "    </tr>\n",
       "    <tr>\n",
       "      <th>6475</th>\n",
       "      <td>9262</td>\n",
       "      <td>189</td>\n",
       "      <td>Gaborone, Botswana</td>\n",
       "      <td>Yup. Still hasn't sunk in. ?? https://t.co/Ii2...</td>\n",
       "      <td>0</td>\n",
       "    </tr>\n",
       "    <tr>\n",
       "      <th>5971</th>\n",
       "      <td>8524</td>\n",
       "      <td>174</td>\n",
       "      <td>Honeymoon Ì£ve.</td>\n",
       "      <td>@ArianaGrande @justinbieber All the loves be s...</td>\n",
       "      <td>0</td>\n",
       "    </tr>\n",
       "    <tr>\n",
       "      <th>5872</th>\n",
       "      <td>8389</td>\n",
       "      <td>171</td>\n",
       "      <td>CA ??DC</td>\n",
       "      <td>there are a few people I'd let ruin my life my...</td>\n",
       "      <td>0</td>\n",
       "    </tr>\n",
       "    <tr>\n",
       "      <th>6776</th>\n",
       "      <td>9708</td>\n",
       "      <td>199</td>\n",
       "      <td>New Delhi, India</td>\n",
       "      <td>Rly tragedy in MP: Some live to recount horror...</td>\n",
       "      <td>1</td>\n",
       "    </tr>\n",
       "    <tr>\n",
       "      <th>839</th>\n",
       "      <td>1218</td>\n",
       "      <td>24</td>\n",
       "      <td>NaN</td>\n",
       "      <td>I love the cotton candy blizzard??</td>\n",
       "      <td>0</td>\n",
       "    </tr>\n",
       "    <tr>\n",
       "      <th>5441</th>\n",
       "      <td>7761</td>\n",
       "      <td>158</td>\n",
       "      <td>NaN</td>\n",
       "      <td>Police expand search for missing pregnant woma...</td>\n",
       "      <td>0</td>\n",
       "    </tr>\n",
       "    <tr>\n",
       "      <th>1201</th>\n",
       "      <td>1727</td>\n",
       "      <td>35</td>\n",
       "      <td>Madison, GA</td>\n",
       "      <td>@_minimehh @cjoyner I must be overlooking the ...</td>\n",
       "      <td>1</td>\n",
       "    </tr>\n",
       "    <tr>\n",
       "      <th>4343</th>\n",
       "      <td>6167</td>\n",
       "      <td>125</td>\n",
       "      <td>Near Richmond, VA</td>\n",
       "      <td>Another Mac vuln!\\n\\nhttps://t.co/OxXRnaB8Un</td>\n",
       "      <td>0</td>\n",
       "    </tr>\n",
       "    <tr>\n",
       "      <th>2480</th>\n",
       "      <td>3557</td>\n",
       "      <td>72</td>\n",
       "      <td>NYC area</td>\n",
       "      <td>RT @danielkemp6 Likened to THE 39 STEPS and Th...</td>\n",
       "      <td>0</td>\n",
       "    </tr>\n",
       "    <tr>\n",
       "      <th>2969</th>\n",
       "      <td>4265</td>\n",
       "      <td>86</td>\n",
       "      <td>CT &amp; NY</td>\n",
       "      <td>@JLabuz what if I'm drowning</td>\n",
       "      <td>0</td>\n",
       "    </tr>\n",
       "    <tr>\n",
       "      <th>4465</th>\n",
       "      <td>6348</td>\n",
       "      <td>129</td>\n",
       "      <td>Heathrow</td>\n",
       "      <td>C-130 specially modified to land in a stadium ...</td>\n",
       "      <td>1</td>\n",
       "    </tr>\n",
       "    <tr>\n",
       "      <th>2555</th>\n",
       "      <td>3663</td>\n",
       "      <td>74</td>\n",
       "      <td>New York City</td>\n",
       "      <td>Watch These Super Strong Magnets Destroy Every...</td>\n",
       "      <td>1</td>\n",
       "    </tr>\n",
       "    <tr>\n",
       "      <th>4808</th>\n",
       "      <td>6844</td>\n",
       "      <td>139</td>\n",
       "      <td>Kenya</td>\n",
       "      <td>matako_milk: Breaking news! Unconfirmed! I jus...</td>\n",
       "      <td>0</td>\n",
       "    </tr>\n",
       "    <tr>\n",
       "      <th>2819</th>\n",
       "      <td>4052</td>\n",
       "      <td>82</td>\n",
       "      <td>Visit our  dedicated website @</td>\n",
       "      <td>300000 Dead 1200000 injured 11000000 Displaced...</td>\n",
       "      <td>1</td>\n",
       "    </tr>\n",
       "    <tr>\n",
       "      <th>1797</th>\n",
       "      <td>2579</td>\n",
       "      <td>52</td>\n",
       "      <td>Melbourne, Australia</td>\n",
       "      <td>@DestinyTheGame @Bungie @PlayStation Getting k...</td>\n",
       "      <td>0</td>\n",
       "    </tr>\n",
       "  </tbody>\n",
       "</table>\n",
       "</div>"
      ],
      "text/plain": [
       "        id  keyword                        location  \\\n",
       "275    401        8                             NaN   \n",
       "1019  1480       30                   Oklahoma City   \n",
       "4318  6132      124                             NaN   \n",
       "2554  3662       74                 Jerseyville, IL   \n",
       "6916  9918      203                    Indiana, USA   \n",
       "6475  9262      189              Gaborone, Botswana   \n",
       "5971  8524      174                 Honeymoon Ì£ve.   \n",
       "5872  8389      171                         CA ??DC   \n",
       "6776  9708      199                New Delhi, India   \n",
       "839   1218       24                             NaN   \n",
       "5441  7761      158                             NaN   \n",
       "1201  1727       35                     Madison, GA   \n",
       "4343  6167      125               Near Richmond, VA   \n",
       "2480  3557       72                        NYC area   \n",
       "2969  4265       86                         CT & NY   \n",
       "4465  6348      129                        Heathrow   \n",
       "2555  3663       74                   New York City   \n",
       "4808  6844      139                           Kenya   \n",
       "2819  4052       82  Visit our  dedicated website @   \n",
       "1797  2579       52            Melbourne, Australia   \n",
       "\n",
       "                                                   text  target  \n",
       "275   RT: janenelson097: RT StephenSCIFI: Adaptation...       0  \n",
       "1019  Micom 2015 Summer Contrast Candy Color Bowknot...       0  \n",
       "4318  The Prophet (peace be upon him) said 'Save you...       1  \n",
       "2554  Dem FLATLINERS who destroy creativity-balance-...       1  \n",
       "6916  @BadAstronomer ...I have a lot of trouble gett...       0  \n",
       "6475  Yup. Still hasn't sunk in. ?? https://t.co/Ii2...       0  \n",
       "5971  @ArianaGrande @justinbieber All the loves be s...       0  \n",
       "5872  there are a few people I'd let ruin my life my...       0  \n",
       "6776  Rly tragedy in MP: Some live to recount horror...       1  \n",
       "839                  I love the cotton candy blizzard??       0  \n",
       "5441  Police expand search for missing pregnant woma...       0  \n",
       "1201  @_minimehh @cjoyner I must be overlooking the ...       1  \n",
       "4343       Another Mac vuln!\\n\\nhttps://t.co/OxXRnaB8Un       0  \n",
       "2480  RT @danielkemp6 Likened to THE 39 STEPS and Th...       0  \n",
       "2969                       @JLabuz what if I'm drowning       0  \n",
       "4465  C-130 specially modified to land in a stadium ...       1  \n",
       "2555  Watch These Super Strong Magnets Destroy Every...       1  \n",
       "4808  matako_milk: Breaking news! Unconfirmed! I jus...       0  \n",
       "2819  300000 Dead 1200000 injured 11000000 Displaced...       1  \n",
       "1797  @DestinyTheGame @Bungie @PlayStation Getting k...       0  "
      ]
     },
     "execution_count": 36,
     "metadata": {},
     "output_type": "execute_result"
    }
   ],
   "source": [
    "df.sample(20)"
   ]
  },
  {
   "cell_type": "code",
   "execution_count": 37,
   "metadata": {},
   "outputs": [
    {
     "data": {
      "application/vnd.jupyter.widget-view+json": {
       "model_id": "e3c4c6a5a8944087810f53ffa8683184",
       "version_major": 2,
       "version_minor": 0
      },
      "text/plain": [
       "  0%|          | 0/6090 [00:00<?, ?it/s]"
      ]
     },
     "metadata": {},
     "output_type": "display_data"
    },
    {
     "name": "stdout",
     "output_type": "stream",
     "text": [
      "vocab size: 22879\n"
     ]
    }
   ],
   "source": [
    "import spacy\n",
    "nlp = spacy.load('en_core_web_sm')\n",
    "\n",
    "# Tokenizer-Funktion\n",
    "def tokenizer(text):\n",
    "    # use spacey for tokenization\n",
    "    return [tok.text for tok in nlp.tokenizer(text)]\n",
    "\n",
    "# Vokabular erstellen\n",
    "def build_vocab(texts, vocab_size=None):\n",
    "    word_to_idx = {}\n",
    "    for text in texts:\n",
    "        tokens = tokenizer(text)\n",
    "        for token in tokens:\n",
    "            if token not in word_to_idx:\n",
    "                word_to_idx[token] = len(word_to_idx)\n",
    "    if vocab_size is not None:\n",
    "        word_to_idx = {k: v for k, v in sorted(word_to_idx.items(), key=lambda item: item[1])[:vocab_size]}\n",
    "    return word_to_idx\n",
    "\n",
    "# Texte in Sequenzen von Wortindizes umwandeln\n",
    "def text_to_indices(text, word_to_idx):\n",
    "    tokens = tokenizer(text)\n",
    "    indices = [word_to_idx[token] if token in word_to_idx else 0 for token in tokens]\n",
    "    return indices\n",
    "\n",
    "# Hyperparameter\n",
    "vocab_size = None  # infinite vocab\n",
    "word_count = 200\n",
    "embedding_dim = 128\n",
    "hidden_dim = 256\n",
    "num_layers = 2\n",
    "num_classes = 2\n",
    "batch_size = 32\n",
    "\n",
    "num_epochs = 2\n",
    "\n",
    "# Aufteilung in Trainings- und Testdaten\n",
    "train_df, test_df = train_test_split(df, test_size=0.2, random_state=42)\n",
    "\n",
    "# Erstellung des Vokabulars\n",
    "texts = train_df['text'].tolist()\n",
    "word_to_idx = build_vocab(texts)\n",
    "vocab_size=len(word_to_idx)\n",
    "print(\"vocab size:\", vocab_size)"
   ]
  },
  {
   "cell_type": "code",
   "execution_count": 38,
   "metadata": {},
   "outputs": [
    {
     "data": {
      "text/plain": [
       "[108, 17, 7, 3379, 0]"
      ]
     },
     "execution_count": 38,
     "metadata": {},
     "output_type": "execute_result"
    }
   ],
   "source": [
    "def text_pipeline(x):                           \n",
    "    return text_to_indices(x, word_to_idx)\n",
    "\n",
    "text_pipeline(\"This is a test sentence\")"
   ]
  },
  {
   "cell_type": "code",
   "execution_count": 39,
   "metadata": {},
   "outputs": [
    {
     "name": "stdout",
     "output_type": "stream",
     "text": [
      "tensor([ 330, 1448,  137,   26,  794,   18, 3216, 1109,  294,    2, 2008, 3215,\n",
      "           0])\n",
      "tensor(10)\n",
      "tensor(0)\n"
     ]
    }
   ],
   "source": [
    "class DisasterTweetsDataset(Dataset):\n",
    "    def __init__(self, df, vocab_size=10000, test=False):\n",
    "        self.df = df\n",
    "        self.vocab_size = vocab_size\n",
    "        self.test = test\n",
    "        \n",
    "    def __len__(self):\n",
    "        return len(self.df)\n",
    "    \n",
    "    def __getitem__(self, idx):\n",
    "        x= self.df.iloc[idx][\"text\"]\n",
    "        keyword = self.df.iloc[idx][\"keyword\"]\n",
    "        if not self.test:\n",
    "            y= self.df.iloc[idx][\"target\"]\n",
    "            y = int(y)\n",
    "            y= torch.tensor(y, dtype=torch.long)\n",
    "        x = text_pipeline(x)\n",
    "        x = torch.tensor(x)\n",
    "        keyword = torch.tensor(keyword, dtype=torch.long)\n",
    "        if not self.test:\n",
    "            return x, keyword, y\n",
    "        return x, keyword\n",
    "    \n",
    "disaster_tweets_dataset = DisasterTweetsDataset(df, vocab_size=vocab_size)\n",
    "x, keyword, y=disaster_tweets_dataset[378]\n",
    "print(x)\n",
    "print(keyword)\n",
    "print(y)"
   ]
  },
  {
   "cell_type": "code",
   "execution_count": 40,
   "metadata": {},
   "outputs": [
    {
     "name": "stdout",
     "output_type": "stream",
     "text": [
      "Tweet 0:' Forest fire near La Ronge Sask. Canada ' |  target 1\n",
      "Tweet 1:' Forest fire near La Ronge Sask. Canada ' |  target 1\n",
      "(tensor([  522, 10453,    39,     5,  3834,    10,    40,     2,   532,   968,\n",
      "            0,     0,   214,    63,   315,    77,   291,  1333, 13127, 13322,\n",
      "            4,  1589]), tensor([ 0, 14]), tensor([0, 0]), tensor([1, 1]))\n"
     ]
    }
   ],
   "source": [
    "def collate_batch(batch):\n",
    "    x, keyword, y = zip(*batch)\n",
    "    # collate for embedding bag\n",
    "    offsets = [0] + [len(x_i) for x_i in x]\n",
    "    offsets = torch.tensor(offsets[:-1]).cumsum(dim=0)\n",
    "    x = torch.cat(x)\n",
    "    y = torch.stack(y)\n",
    "    keywords=torch.stack(keyword)\n",
    "    return x, offsets, keywords, y\n",
    "\n",
    "\n",
    "# test custom collate function\n",
    "\n",
    "print(\"Tweet 0:'\", df.iloc[1].text, \"' |  target\", df.iloc[0].target)\n",
    "print(\"Tweet 1:'\", df.iloc[1].text, \"' |  target\", df.iloc[1].target)\n",
    "print(collate_batch([disaster_tweets_dataset[0], disaster_tweets_dataset[1]]))\n",
    "\n",
    "\n",
    "\n"
   ]
  },
  {
   "cell_type": "code",
   "execution_count": 41,
   "metadata": {},
   "outputs": [
    {
     "data": {
      "text/plain": [
       "tensor([[-0.0433, -0.1702],\n",
       "        [ 0.3332, -1.0894]], grad_fn=<AddmmBackward0>)"
      ]
     },
     "execution_count": 41,
     "metadata": {},
     "output_type": "execute_result"
    }
   ],
   "source": [
    "\n",
    "\n",
    "from torch import nn\n",
    "import torch.nn.init as init\n",
    "\n",
    "class TextClassificationModel(nn.Module):\n",
    "\n",
    "    def __init__(self, vocab_size, embed_dim,  num_class, keywords_size=30, keyword_embedding_dim=4):\n",
    "        super(TextClassificationModel, self).__init__()\n",
    "        self.embedding = nn.EmbeddingBag(vocab_size, embed_dim, sparse=True)  # sparse means: \n",
    "        self.keywords_embedding = nn.Embedding(keywords_size, keyword_embedding_dim)\n",
    "        self.fc1 = nn.Linear(embed_dim+keyword_embedding_dim, 30)\n",
    "        self.dropout = nn.Dropout(0.5)\n",
    "        self.fc2= nn.Linear(30, num_class)\n",
    "        self.batchnorm = nn.BatchNorm1d(30)\n",
    "        self.relu=nn.ReLU()\n",
    "        self.init_weights()\n",
    "        \n",
    "\n",
    "    def init_weights(self):\n",
    "        initrange = 0.5\n",
    "        # uniform initialisation for the embedding layer\n",
    "        self.embedding.weight.data.uniform_(-initrange, initrange)\n",
    "        #self.fc.weight.data.uniform_(-initrange, initrange)\n",
    "        #self.fc.bias.data.zero_()\n",
    "        \n",
    "        # He initialisation for the weights of the fully connected layer\n",
    "        for m in self.modules():\n",
    "            if isinstance(m, nn.Linear):\n",
    "                init.kaiming_normal_(m.weight, mode='fan_in', nonlinearity='relu')\n",
    "                if m.bias is not None:\n",
    "                    m.bias.data.fill_(0.0)\n",
    "\n",
    "    def forward(self, text, offsets, keywords):\n",
    "        embedded = self.embedding(text, offsets)\n",
    "        keywords_embedded = self.keywords_embedding(keywords)\n",
    "        embedded = torch.cat((embedded, keywords_embedded), dim=1)\n",
    "        out=self.fc1(embedded)\n",
    "        out=self.batchnorm(out)\n",
    "        out=self.dropout(out)\n",
    "        out=self.relu(out)\n",
    "        return self.fc2(out)\n",
    "    \n",
    "# test model\n",
    "x1, keyword1, y1=disaster_tweets_dataset[378]\n",
    "x2, keyword2, y2=disaster_tweets_dataset[379]\n",
    "model = TextClassificationModel(vocab_size, embedding_dim, num_classes, keywords_size=df.keyword.nunique(), keyword_embedding_dim=12)\n",
    "# concat x1 and x2\n",
    "xb=torch.cat((x1, x2))\n",
    "offsets=torch.tensor([0, len(x1)])\n",
    "keywords=torch.tensor([keyword1, keyword2])\n",
    "model(xb, offsets, keywords)"
   ]
  },
  {
   "cell_type": "markdown",
   "metadata": {},
   "source": [
    "Initializing weights in a neural network, including an embedding layer like nn.EmbeddingBag in PyTorch, is a crucial step in preparing the model for training. The init_weights method in your TextClassificationModel class plays a significant role in this process. Here's why it's important:\n",
    "\n",
    "* Breaking Symmetry: When a network starts with all weights having the same value, learning can be inefficient or even stall completely. Different initial weights allow for symmetry breaking, ensuring that different neurons can learn different functions.\n",
    "* Improving Convergence: Proper initialization can speed up the convergence of the training process by starting the optimization closer to the optimal solution. Bad initialization can lead to slower convergence or getting stuck in suboptimal minima.\n",
    "* Control of Variance: In deep networks, it's important to control the variance of activations and gradients as they pass through the layers. If the variance is too high, you might encounter exploding gradients; if it's too low, vanishing gradients can occur. Good initialization keeps the variance in a reasonable range.\n",
    "* Embedding Specifics: For embedding layers, like nn.EmbeddingBag, initialization is particularly important because they map discrete input (like words) into continuous vectors. The initial values of these vectors can determine how effectively the model learns the relationships between different inputs. A uniform distribution, as used in your init_weights method, is a common choice. It assigns a wide range of different values to the embedding weights, encouraging the model to explore a diverse set of representations.\n",
    "* Sparse Embeddings: You're using a sparse embedding (sparse=True), which is often used for memory efficiency with large vocabularies. Sparse embeddings can have different optimization dynamics compared to dense embeddings, and initializing them properly can be even more crucial to ensure that the sparse gradients are effective in updating the weights.\n",
    "* Consistency and Reproducibility: By initializing weights in a controlled manner (like using a fixed range in your case), you can have more consistent results across different runs, which is important for debugging and comparing different models."
   ]
  },
  {
   "cell_type": "code",
   "execution_count": 42,
   "metadata": {},
   "outputs": [
    {
     "name": "stdout",
     "output_type": "stream",
     "text": [
      "x:  tensor([ 9285,  6283,    26, 16275,   103,   233,    11,  1734,     8,   623,\n",
      "            7,   120,   559,   858,  9344,  8312,   107,    93,    19,  1941,\n",
      "           89,    15,  2979,   592,     5,  2580,    15,   137,    32,    22,\n",
      "         1899,     3,    15,  2469,    50,    21,    69,     5, 16124,    28,\n",
      "          276,    21,  3359,    55, 12574,     3,   817,    73,     4, 11934,\n",
      "           10,   174,    29,  1144,  4306,     4,     2, 13988,     2, 13987,\n",
      "            2, 12966,     2,     3,     3,     3,     3,     3,     3,     3,\n",
      "            3,     3,     3,     3, 18626,   522,  1314,  1644, 10158,  2259,\n",
      "           60,  2615,    21,    18,    62,   174,  2642,     9,     5,   734,\n",
      "            4, 18020])\n",
      "offsets:  tensor([ 0, 15, 46, 75])\n",
      "keywords:  tensor([190,   9,  45,  45])\n",
      "y:  tensor([0, 0, 0, 1])\n",
      "model output:  tensor([[ 2.1358,  1.0125],\n",
      "        [ 2.3355,  1.4011],\n",
      "        [ 0.4730,  0.7264],\n",
      "        [-0.2110,  0.4578]], grad_fn=<AddmmBackward0>)\n",
      "End Batch\n",
      "\n",
      "\n",
      "\n",
      "x:  tensor([13694,  9282,  3513,  9315,  1581,   974,  1595,  3744,  1819,    10,\n",
      "          214,     0,    69,    40,  4997,    25,   118,     0,     6,    24,\n",
      "          318,   137, 11562,   282,     0,   765,  2086,  3973,    15,     2,\n",
      "        12267,    17,  1514,    47,     2, 13818, 22561,     4,  1627,  6843,\n",
      "          382,    51,    18,  1556,    53,   574,    19,   506,    76,   417,\n",
      "            8,   615,   262,    28,     4,     3,     3,     0,    12,    14,\n",
      "           12,  1663,  4031,    18,  1491,   138,     9,  3401,   894,  2453,\n",
      "           12,     0])\n",
      "offsets:  tensor([ 0,  8, 29, 57])\n",
      "keywords:  tensor([ 16, 134,  54,  40])\n",
      "y:  tensor([0, 0, 0, 1])\n",
      "model output:  tensor([[ 0.2934,  1.6270],\n",
      "        [ 0.0604, -0.5735],\n",
      "        [ 0.6602, -0.2000],\n",
      "        [ 0.6277, -0.9240]], grad_fn=<AddmmBackward0>)\n",
      "End Batch\n",
      "\n",
      "\n",
      "\n",
      "x:  tensor([18858,  3961,    73,    12,   391,  1664,   771,  2143,    13,  2229,\n",
      "          688,    59,  1202,  4114, 17833,  8723, 20925,    90,    39,  1491,\n",
      "          138,     9,  3890,    41,   272,   151,    84,   115,    68,    72,\n",
      "          417,  4462,    90,    99, 21146,   247,   208,     8,   648])\n",
      "offsets:  tensor([ 0, 15])\n",
      "keywords:  tensor([55, 40])\n",
      "y:  tensor([0, 1])\n",
      "model output:  tensor([[ 0.1464,  0.9327],\n",
      "        [-0.0660,  1.1248]], grad_fn=<AddmmBackward0>)\n",
      "End Batch\n",
      "\n",
      "\n",
      "\n"
     ]
    }
   ],
   "source": [
    "# test all together\n",
    "df_to_test=df.sample(10)\n",
    "dataset_to_test = DisasterTweetsDataset(df_to_test, vocab_size=vocab_size)\n",
    "dataloader_to_test = DataLoader(dataset_to_test, batch_size=4, shuffle=True, collate_fn=collate_batch)\n",
    "for x, offsets, keywords, y in dataloader_to_test:\n",
    "    print(\"x: \", x)\n",
    "    print(\"offsets: \", offsets)\n",
    "    print(\"keywords: \", keywords)\n",
    "    print(\"y: \", y)\n",
    "    print(\"model output: \" , model(x, offsets, keywords))\n",
    "    print(\"End Batch\\n\\n\\n\")"
   ]
  },
  {
   "cell_type": "code",
   "execution_count": 43,
   "metadata": {},
   "outputs": [],
   "source": [
    "class Learner():\n",
    "    \n",
    "    def __init__(self, model, train_dataloader, valid_dataloader, optimizer, scheduler, loss_func):\n",
    "        self.model=model\n",
    "        self.train_dataloader=train_dataloader\n",
    "        self.valid_dataloader=valid_dataloader\n",
    "        self.optimizer=optimizer\n",
    "        self.scheduler=scheduler\n",
    "        self.loss_func=loss_func\n",
    "        self.accu_train=[]\n",
    "        self.accu_valid=[]\n",
    "\n",
    "    def evaluate(self, loader):\n",
    "        model.eval()\n",
    "        total_acc, total_count = 0, 0\n",
    "        with torch.no_grad():\n",
    "            for idx, (x, offsets, keywords, y) in enumerate(loader):\n",
    "                predicted_label = model(x, offsets, keywords)\n",
    "                total_acc += (predicted_label.argmax(1) == y).sum().item()\n",
    "                total_count += y.size(0)\n",
    "        return total_acc/total_count\n",
    "\n",
    "\n",
    "    def fit_one_epoch(self):\n",
    "        epoch_start_time = time.time()\n",
    "        self.model.train()\n",
    "\n",
    "        for idx, (x, offsets, keywords, y) in enumerate(self.train_dataloader):\n",
    "            self.optimizer.zero_grad()\n",
    "            predicted_label = model(x, offsets, keywords)\n",
    "            loss = self.loss_func(predicted_label, y)\n",
    "            loss.backward()\n",
    "            self.optimizer.step()\n",
    "\n",
    "        accu_train = self.evaluate(self.train_dataloader)\n",
    "        accu_valid = self.evaluate(self.valid_dataloader)\n",
    "        self.accu_train.append(accu_train)\n",
    "        self.accu_valid.append(accu_valid)\n",
    "        self.scheduler.step() \n",
    "        return (time.time() - epoch_start_time)\n",
    "\n",
    "    def fit_epochs(self, number=None):\n",
    "        for epoch in range(number):\n",
    "            epoch_time=self.fit_one_epoch()\n",
    "            print('-' * 59)\n",
    "            print('| end of epoch {:3d} | time: {:5.2f}s | train accuracy {:8.3f} | valid accuracy {:8.3f} | lr: {:1.2f}'.format(\n",
    "                                        epoch,\n",
    "                                        epoch_time,\n",
    "                                        self.accu_train[-1],\n",
    "                                        self.accu_valid[-1],\n",
    "                                        self.scheduler.get_last_lr()[0]))    \n",
    "\n",
    "    def plot_training(self):\n",
    "        plt.plot(self.accu_train, label=\"train accuracy\")\n",
    "        plt.plot(self.accu_valid, label=\"valid accuracy\")\n",
    "        plt.legend()\n",
    "        plt.show()"
   ]
  },
  {
   "cell_type": "code",
   "execution_count": 44,
   "metadata": {},
   "outputs": [],
   "source": [
    "# Hyperparameters\n",
    "LR = 1  # learning rate\n",
    "BATCH_SIZE = 64 # batch size for training\n",
    "embedding_dim = 128\n",
    "num_classes = 2\n",
    "\n",
    "\n",
    "model = TextClassificationModel(vocab_size, embedding_dim, num_classes, keyword_embedding_dim=12, keywords_size=df.keyword.nunique())\n",
    "\n",
    "train_dataset=DisasterTweetsDataset(train_df, vocab_size=vocab_size)\n",
    "train_dataloader = DataLoader(train_dataset, batch_size=BATCH_SIZE,\n",
    "                              shuffle=True, collate_fn=collate_batch)\n",
    "valid_dataset=DisasterTweetsDataset(test_df, vocab_size=vocab_size)\n",
    "valid_dataloader = DataLoader(valid_dataset, batch_size=BATCH_SIZE, collate_fn=collate_batch)\n",
    "\n",
    "loss_func = torch.nn.CrossEntropyLoss()\n",
    "#\n",
    "optimizer = torch.optim.SGD(model.parameters(), lr=LR)\n",
    "scheduler = torch.optim.lr_scheduler.StepLR(optimizer, 3.0, gamma=0.9)   # every 3 epochs, LR is multiplied by 0.7\n",
    "\n",
    "learner=Learner(model, train_dataloader, valid_dataloader, optimizer, scheduler, loss_func)"
   ]
  },
  {
   "cell_type": "code",
   "execution_count": 45,
   "metadata": {},
   "outputs": [
    {
     "name": "stdout",
     "output_type": "stream",
     "text": [
      "-----------------------------------------------------------\n",
      "| end of epoch   0 | time:  1.62s | train accuracy    0.621 | valid accuracy    0.617 | lr: 1.00\n",
      "-----------------------------------------------------------\n",
      "| end of epoch   1 | time:  1.51s | train accuracy    0.664 | valid accuracy    0.619 | lr: 1.00\n",
      "-----------------------------------------------------------\n",
      "| end of epoch   2 | time:  1.52s | train accuracy    0.635 | valid accuracy    0.599 | lr: 0.90\n",
      "-----------------------------------------------------------\n",
      "| end of epoch   3 | time:  1.52s | train accuracy    0.695 | valid accuracy    0.644 | lr: 0.90\n",
      "-----------------------------------------------------------\n",
      "| end of epoch   4 | time:  1.52s | train accuracy    0.726 | valid accuracy    0.672 | lr: 0.90\n",
      "-----------------------------------------------------------\n",
      "| end of epoch   5 | time:  1.51s | train accuracy    0.651 | valid accuracy    0.596 | lr: 0.81\n",
      "-----------------------------------------------------------\n",
      "| end of epoch   6 | time:  1.51s | train accuracy    0.749 | valid accuracy    0.701 | lr: 0.81\n",
      "-----------------------------------------------------------\n",
      "| end of epoch   7 | time:  1.50s | train accuracy    0.752 | valid accuracy    0.710 | lr: 0.81\n",
      "-----------------------------------------------------------\n",
      "| end of epoch   8 | time:  1.51s | train accuracy    0.743 | valid accuracy    0.697 | lr: 0.73\n",
      "-----------------------------------------------------------\n",
      "| end of epoch   9 | time:  1.51s | train accuracy    0.711 | valid accuracy    0.658 | lr: 0.73\n"
     ]
    },
    {
     "data": {
      "image/png": "[encoded data removed]",
      "text/plain": [
       "<Figure size 640x480 with 1 Axes>"
      ]
     },
     "metadata": {},
     "output_type": "display_data"
    }
   ],
   "source": [
    "\n",
    "learner.fit_epochs(2)\n",
    "learner.plot_training()"
   ]
  },
  {
   "cell_type": "code",
   "execution_count": 46,
   "metadata": {},
   "outputs": [
    {
     "name": "stdout",
     "output_type": "stream",
     "text": [
      "-----------------------------------------------------------\n",
      "| end of epoch   0 | time:  1.62s | train accuracy    0.756 | valid accuracy    0.724 | lr: 0.73\n",
      "-----------------------------------------------------------\n",
      "| end of epoch   1 | time:  1.52s | train accuracy    0.663 | valid accuracy    0.603 | lr: 0.66\n",
      "-----------------------------------------------------------\n",
      "| end of epoch   2 | time:  1.51s | train accuracy    0.777 | valid accuracy    0.735 | lr: 0.66\n",
      "-----------------------------------------------------------\n",
      "| end of epoch   3 | time:  1.52s | train accuracy    0.772 | valid accuracy    0.737 | lr: 0.66\n",
      "-----------------------------------------------------------\n",
      "| end of epoch   4 | time:  1.51s | train accuracy    0.775 | valid accuracy    0.724 | lr: 0.59\n",
      "-----------------------------------------------------------\n",
      "| end of epoch   5 | time:  1.55s | train accuracy    0.779 | valid accuracy    0.746 | lr: 0.59\n",
      "-----------------------------------------------------------\n",
      "| end of epoch   6 | time:  1.59s | train accuracy    0.798 | valid accuracy    0.752 | lr: 0.59\n",
      "-----------------------------------------------------------\n",
      "| end of epoch   7 | time:  1.55s | train accuracy    0.792 | valid accuracy    0.734 | lr: 0.53\n",
      "-----------------------------------------------------------\n",
      "| end of epoch   8 | time:  1.54s | train accuracy    0.798 | valid accuracy    0.752 | lr: 0.53\n",
      "-----------------------------------------------------------\n",
      "| end of epoch   9 | time:  1.57s | train accuracy    0.795 | valid accuracy    0.749 | lr: 0.53\n"
     ]
    },
    {
     "data": {
      "image/png": "[encoded data removed]",
      "text/plain": [
       "<Figure size 640x480 with 1 Axes>"
      ]
     },
     "metadata": {},
     "output_type": "display_data"
    }
   ],
   "source": [
    "learner.fit_epochs(10)\n",
    "learner.plot_training()"
   ]
  },
  {
   "cell_type": "code",
   "execution_count": 50,
   "metadata": {},
   "outputs": [
    {
     "name": "stdout",
     "output_type": "stream",
     "text": [
      "-----------------------------------------------------------\n",
      "| end of epoch   0 | time:  1.59s | train accuracy    0.802 | valid accuracy    0.754 | lr: 0.48\n",
      "-----------------------------------------------------------\n",
      "| end of epoch   1 | time:  1.57s | train accuracy    0.810 | valid accuracy    0.749 | lr: 0.48\n",
      "-----------------------------------------------------------\n",
      "| end of epoch   2 | time:  1.53s | train accuracy    0.816 | valid accuracy    0.750 | lr: 0.48\n",
      "-----------------------------------------------------------\n",
      "| end of epoch   3 | time:  1.53s | train accuracy    0.823 | valid accuracy    0.764 | lr: 0.43\n",
      "-----------------------------------------------------------\n",
      "| end of epoch   4 | time:  1.56s | train accuracy    0.816 | valid accuracy    0.763 | lr: 0.43\n",
      "-----------------------------------------------------------\n",
      "| end of epoch   5 | time:  1.53s | train accuracy    0.822 | valid accuracy    0.768 | lr: 0.43\n",
      "-----------------------------------------------------------\n",
      "| end of epoch   6 | time:  1.54s | train accuracy    0.831 | valid accuracy    0.766 | lr: 0.39\n",
      "-----------------------------------------------------------\n",
      "| end of epoch   7 | time:  1.52s | train accuracy    0.832 | valid accuracy    0.760 | lr: 0.39\n",
      "-----------------------------------------------------------\n",
      "| end of epoch   8 | time:  1.54s | train accuracy    0.828 | valid accuracy    0.756 | lr: 0.39\n",
      "-----------------------------------------------------------\n",
      "| end of epoch   9 | time:  1.54s | train accuracy    0.837 | valid accuracy    0.773 | lr: 0.35\n"
     ]
    },
    {
     "data": {
      "image/png": "[encoded data removed]",
      "text/plain": [
       "<Figure size 640x480 with 1 Axes>"
      ]
     },
     "metadata": {},
     "output_type": "display_data"
    }
   ],
   "source": [
    "learner.fit_epochs(10)\n",
    "learner.plot_training()"
   ]
  },
  {
   "cell_type": "code",
   "execution_count": 51,
   "metadata": {},
   "outputs": [
    {
     "data": {
      "text/html": [
       "<div>\n",
       "<style scoped>\n",
       "    .dataframe tbody tr th:only-of-type {\n",
       "        vertical-align: middle;\n",
       "    }\n",
       "\n",
       "    .dataframe tbody tr th {\n",
       "        vertical-align: top;\n",
       "    }\n",
       "\n",
       "    .dataframe thead th {\n",
       "        text-align: right;\n",
       "    }\n",
       "</style>\n",
       "<table border=\"1\" class=\"dataframe\">\n",
       "  <thead>\n",
       "    <tr style=\"text-align: right;\">\n",
       "      <th></th>\n",
       "      <th>id</th>\n",
       "      <th>keyword</th>\n",
       "      <th>location</th>\n",
       "      <th>text</th>\n",
       "    </tr>\n",
       "  </thead>\n",
       "  <tbody>\n",
       "    <tr>\n",
       "      <th>1362</th>\n",
       "      <td>4484</td>\n",
       "      <td>electrocuted</td>\n",
       "      <td>mullingar ireland</td>\n",
       "      <td>@hairdryer180 you'll get electrocuted</td>\n",
       "    </tr>\n",
       "    <tr>\n",
       "      <th>1322</th>\n",
       "      <td>4364</td>\n",
       "      <td>earthquake</td>\n",
       "      <td>Do Not Follow Me, Am I a Bot.</td>\n",
       "      <td>#Earthquake of M 2.9 - 140km W of Ferndale Cal...</td>\n",
       "    </tr>\n",
       "    <tr>\n",
       "      <th>2262</th>\n",
       "      <td>7538</td>\n",
       "      <td>oil%20spill</td>\n",
       "      <td>Australia</td>\n",
       "      <td>NSW - BANKSTOWN Stacey St at Wattle St\\nHAZARD...</td>\n",
       "    </tr>\n",
       "    <tr>\n",
       "      <th>627</th>\n",
       "      <td>2044</td>\n",
       "      <td>casualties</td>\n",
       "      <td>NaN</td>\n",
       "      <td>@JimW_in_NM @KurtSchlichter Here's the thing: ...</td>\n",
       "    </tr>\n",
       "    <tr>\n",
       "      <th>3152</th>\n",
       "      <td>10463</td>\n",
       "      <td>wild%20fires</td>\n",
       "      <td>Colorado</td>\n",
       "      <td>Stampedes and fires brought him home; can her ...</td>\n",
       "    </tr>\n",
       "  </tbody>\n",
       "</table>\n",
       "</div>"
      ],
      "text/plain": [
       "         id       keyword                       location  \\\n",
       "1362   4484  electrocuted              mullingar ireland   \n",
       "1322   4364    earthquake  Do Not Follow Me, Am I a Bot.   \n",
       "2262   7538   oil%20spill                      Australia   \n",
       "627    2044    casualties                            NaN   \n",
       "3152  10463  wild%20fires                       Colorado   \n",
       "\n",
       "                                                   text  \n",
       "1362              @hairdryer180 you'll get electrocuted  \n",
       "1322  #Earthquake of M 2.9 - 140km W of Ferndale Cal...  \n",
       "2262  NSW - BANKSTOWN Stacey St at Wattle St\\nHAZARD...  \n",
       "627   @JimW_in_NM @KurtSchlichter Here's the thing: ...  \n",
       "3152  Stampedes and fires brought him home; can her ...  "
      ]
     },
     "execution_count": 51,
     "metadata": {},
     "output_type": "execute_result"
    }
   ],
   "source": [
    "local_test_path='test.csv'\n",
    "kaggle_test_path=''\n",
    "\n",
    "df_submission_test_data=pd.read_csv(kaggle_test_path if kaggle else local_test_path)\n",
    "df_submission_test_data.sample(5)\n",
    "\n",
    "\n"
   ]
  },
  {
   "cell_type": "code",
   "execution_count": 55,
   "metadata": {},
   "outputs": [],
   "source": [
    "# label encode keyword using trained label encoder\n",
    "df_submission_test_data['keyword'] = le.transform(df_submission_test_data['keyword'].fillna(''))"
   ]
  },
  {
   "cell_type": "code",
   "execution_count": 69,
   "metadata": {},
   "outputs": [],
   "source": [
    "def collate_batch_test_data(batch):\n",
    "    x, keywords = zip(*batch)\n",
    "    # collate for embedding bag\n",
    "    offsets = [0] + [len(x_i) for x_i in x]\n",
    "    offsets = torch.tensor(offsets[:-1]).cumsum(dim=0)\n",
    "    x = torch.cat(x)\n",
    "    keywords=torch.stack(keywords)\n",
    "    return x, offsets, keywords"
   ]
  },
  {
   "cell_type": "code",
   "execution_count": 71,
   "metadata": {},
   "outputs": [],
   "source": [
    "model.eval()\n",
    "preds=[]\n",
    "test_dataset=DisasterTweetsDataset(df_submission_test_data, vocab_size=vocab_size, test=True)\n",
    "test_dataloader = DataLoader(test_dataset, batch_size=BATCH_SIZE, collate_fn=collate_batch_test_data)\n",
    "with torch.no_grad():\n",
    "    for idx, (x, offsets, keywords) in enumerate(test_dataloader):\n",
    "        predicted_label = model(x, offsets, keywords)\n",
    "        preds.extend(predicted_label.argmax(1).tolist())\n",
    "\n",
    "df_submission_test_data[\"target\"]=preds\n",
    "df_submission_test_data[[\"id\", \"target\"]].to_csv(\"submission.csv\", index=False)"
   ]
  },
  {
   "cell_type": "code",
   "execution_count": null,
   "metadata": {},
   "outputs": [],
   "source": [
    "# Score: 0.75237"
   ]
  },
  {
   "cell_type": "code",
   "execution_count": null,
   "metadata": {},
   "outputs": [],
   "source": []
  }
 ],
 "metadata": {
  "kernelspec": {
   "display_name": "torch_ds",
   "language": "python",
   "name": "python3"
  },
  "language_info": {
   "codemirror_mode": {
    "name": "ipython",
    "version": 3
   },
   "file_extension": ".py",
   "mimetype": "text/x-python",
   "name": "python",
   "nbconvert_exporter": "python",
   "pygments_lexer": "ipython3",
   "version": "3.10.9"
  }
 },
 "nbformat": 4,
 "nbformat_minor": 2
}
