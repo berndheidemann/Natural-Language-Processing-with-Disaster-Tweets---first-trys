{
 "cells": [
  {
   "cell_type": "code",
   "execution_count": 26,
   "metadata": {},
   "outputs": [],
   "source": [
    "kaggle=False\n",
    "kaggle_path='/kaggle/input/nlp-getting-started/train.csv'\n",
    "local_path='train.csv'\n",
    "\n",
    "import torch\n",
    "import torch.nn as nn\n",
    "import torch.optim as optim\n",
    "from torch.utils.data import DataLoader\n",
    "from torch.nn.utils.rnn import pad_sequence\n",
    "import numpy as np\n",
    "from sklearn.model_selection import train_test_split\n",
    "from torch.utils.data import Dataset\n",
    "import torchtext\n",
    "import pandas as pd\n",
    "import time\n",
    "from torch.utils.data import DataLoader\n",
    "#from tqdm.notebook import tqdm\n",
    "from tqdm import tqdm\n",
    "import matplotlib.pyplot as plt\n"
   ]
  },
  {
   "cell_type": "code",
   "execution_count": 27,
   "metadata": {},
   "outputs": [
    {
     "data": {
      "text/html": [
       "<div>\n",
       "<style scoped>\n",
       "    .dataframe tbody tr th:only-of-type {\n",
       "        vertical-align: middle;\n",
       "    }\n",
       "\n",
       "    .dataframe tbody tr th {\n",
       "        vertical-align: top;\n",
       "    }\n",
       "\n",
       "    .dataframe thead th {\n",
       "        text-align: right;\n",
       "    }\n",
       "</style>\n",
       "<table border=\"1\" class=\"dataframe\">\n",
       "  <thead>\n",
       "    <tr style=\"text-align: right;\">\n",
       "      <th></th>\n",
       "      <th>id</th>\n",
       "      <th>keyword</th>\n",
       "      <th>location</th>\n",
       "      <th>text</th>\n",
       "      <th>target</th>\n",
       "    </tr>\n",
       "  </thead>\n",
       "  <tbody>\n",
       "    <tr>\n",
       "      <th>0</th>\n",
       "      <td>1</td>\n",
       "      <td>NaN</td>\n",
       "      <td>NaN</td>\n",
       "      <td>Our Deeds are the Reason of this #earthquake M...</td>\n",
       "      <td>1</td>\n",
       "    </tr>\n",
       "    <tr>\n",
       "      <th>1</th>\n",
       "      <td>4</td>\n",
       "      <td>NaN</td>\n",
       "      <td>NaN</td>\n",
       "      <td>Forest fire near La Ronge Sask. Canada</td>\n",
       "      <td>1</td>\n",
       "    </tr>\n",
       "    <tr>\n",
       "      <th>2</th>\n",
       "      <td>5</td>\n",
       "      <td>NaN</td>\n",
       "      <td>NaN</td>\n",
       "      <td>All residents asked to 'shelter in place' are ...</td>\n",
       "      <td>1</td>\n",
       "    </tr>\n",
       "    <tr>\n",
       "      <th>3</th>\n",
       "      <td>6</td>\n",
       "      <td>NaN</td>\n",
       "      <td>NaN</td>\n",
       "      <td>13,000 people receive #wildfires evacuation or...</td>\n",
       "      <td>1</td>\n",
       "    </tr>\n",
       "    <tr>\n",
       "      <th>4</th>\n",
       "      <td>7</td>\n",
       "      <td>NaN</td>\n",
       "      <td>NaN</td>\n",
       "      <td>Just got sent this photo from Ruby #Alaska as ...</td>\n",
       "      <td>1</td>\n",
       "    </tr>\n",
       "  </tbody>\n",
       "</table>\n",
       "</div>"
      ],
      "text/plain": [
       "   id keyword location                                               text  \\\n",
       "0   1     NaN      NaN  Our Deeds are the Reason of this #earthquake M...   \n",
       "1   4     NaN      NaN             Forest fire near La Ronge Sask. Canada   \n",
       "2   5     NaN      NaN  All residents asked to 'shelter in place' are ...   \n",
       "3   6     NaN      NaN  13,000 people receive #wildfires evacuation or...   \n",
       "4   7     NaN      NaN  Just got sent this photo from Ruby #Alaska as ...   \n",
       "\n",
       "   target  \n",
       "0       1  \n",
       "1       1  \n",
       "2       1  \n",
       "3       1  \n",
       "4       1  "
      ]
     },
     "execution_count": 27,
     "metadata": {},
     "output_type": "execute_result"
    }
   ],
   "source": [
    "\n",
    "df=pd.read_csv(kaggle_path if kaggle else local_path)\n",
    "df.head(5)"
   ]
  },
  {
   "cell_type": "code",
   "execution_count": 28,
   "metadata": {},
   "outputs": [
    {
     "data": {
      "text/plain": [
       "<Axes: >"
      ]
     },
     "execution_count": 28,
     "metadata": {},
     "output_type": "execute_result"
    },
    {
     "data": {
      "image/png": "[encoded data removed]",
      "text/plain": [
       "<Figure size 640x480 with 1 Axes>"
      ]
     },
     "metadata": {},
     "output_type": "display_data"
    }
   ],
   "source": [
    "# count the number of words and plot a histogram\n",
    "df['word_count'] = df['text'].apply(lambda x: len(str(x).split()))\n",
    "df['word_count'].hist(bins=100)\n"
   ]
  },
  {
   "cell_type": "code",
   "execution_count": 29,
   "metadata": {},
   "outputs": [
    {
     "data": {
      "text/plain": [
       "5440    158\n",
       "670      19\n",
       "3722    107\n",
       "685      20\n",
       "734      21\n",
       "Name: keyword, dtype: int32"
      ]
     },
     "execution_count": 29,
     "metadata": {},
     "output_type": "execute_result"
    }
   ],
   "source": [
    "# label encoding of keyword using sklearn\n",
    "from sklearn.preprocessing import LabelEncoder\n",
    "le = LabelEncoder()\n",
    "df['keyword'] = le.fit_transform(df['keyword'].fillna(''))\n",
    "df['keyword'].sample(5)"
   ]
  },
  {
   "cell_type": "code",
   "execution_count": 30,
   "metadata": {},
   "outputs": [
    {
     "data": {
      "text/plain": [
       "222"
      ]
     },
     "execution_count": 30,
     "metadata": {},
     "output_type": "execute_result"
    }
   ],
   "source": [
    "df['keyword'].nunique()"
   ]
  },
  {
   "cell_type": "code",
   "execution_count": 31,
   "metadata": {},
   "outputs": [
    {
     "data": {
      "text/plain": [
       "array([1, 0], dtype=int64)"
      ]
     },
     "execution_count": 31,
     "metadata": {},
     "output_type": "execute_result"
    }
   ],
   "source": [
    "df.target.unique()"
   ]
  },
  {
   "cell_type": "code",
   "execution_count": 32,
   "metadata": {},
   "outputs": [
    {
     "data": {
      "text/html": [
       "<div>\n",
       "<style scoped>\n",
       "    .dataframe tbody tr th:only-of-type {\n",
       "        vertical-align: middle;\n",
       "    }\n",
       "\n",
       "    .dataframe tbody tr th {\n",
       "        vertical-align: top;\n",
       "    }\n",
       "\n",
       "    .dataframe thead th {\n",
       "        text-align: right;\n",
       "    }\n",
       "</style>\n",
       "<table border=\"1\" class=\"dataframe\">\n",
       "  <thead>\n",
       "    <tr style=\"text-align: right;\">\n",
       "      <th></th>\n",
       "      <th>id</th>\n",
       "      <th>keyword</th>\n",
       "      <th>location</th>\n",
       "      <th>text</th>\n",
       "      <th>target</th>\n",
       "      <th>word_count</th>\n",
       "    </tr>\n",
       "  </thead>\n",
       "  <tbody>\n",
       "    <tr>\n",
       "      <th>3969</th>\n",
       "      <td>5642</td>\n",
       "      <td>114</td>\n",
       "      <td>?</td>\n",
       "      <td>@themaine is it too soon to start flooding you...</td>\n",
       "      <td>0</td>\n",
       "      <td>19</td>\n",
       "    </tr>\n",
       "    <tr>\n",
       "      <th>2181</th>\n",
       "      <td>3125</td>\n",
       "      <td>63</td>\n",
       "      <td>New York</td>\n",
       "      <td>Malaysian Officials Say Debris Found on Reunio...</td>\n",
       "      <td>1</td>\n",
       "      <td>14</td>\n",
       "    </tr>\n",
       "    <tr>\n",
       "      <th>2292</th>\n",
       "      <td>3287</td>\n",
       "      <td>66</td>\n",
       "      <td>London</td>\n",
       "      <td>I could demolish this right now! https://t.co/...</td>\n",
       "      <td>0</td>\n",
       "      <td>7</td>\n",
       "    </tr>\n",
       "    <tr>\n",
       "      <th>4055</th>\n",
       "      <td>5760</td>\n",
       "      <td>117</td>\n",
       "      <td>Tips on my blog at</td>\n",
       "      <td>Tales of the #trees #deep water loving #Lake T...</td>\n",
       "      <td>0</td>\n",
       "      <td>14</td>\n",
       "    </tr>\n",
       "    <tr>\n",
       "      <th>4516</th>\n",
       "      <td>6417</td>\n",
       "      <td>130</td>\n",
       "      <td>NaN</td>\n",
       "      <td>AngelRiveraLibÛ_ #Snowden 'may have' broken l...</td>\n",
       "      <td>1</td>\n",
       "      <td>17</td>\n",
       "    </tr>\n",
       "    <tr>\n",
       "      <th>184</th>\n",
       "      <td>263</td>\n",
       "      <td>5</td>\n",
       "      <td>Swindon,England</td>\n",
       "      <td>@TanSlash waiting for an ambulance</td>\n",
       "      <td>0</td>\n",
       "      <td>5</td>\n",
       "    </tr>\n",
       "    <tr>\n",
       "      <th>6669</th>\n",
       "      <td>9557</td>\n",
       "      <td>195</td>\n",
       "      <td>BiÌ±an,Laguna</td>\n",
       "      <td>Meek Mill responds to DrakeÛªs OVO Fest set w...</td>\n",
       "      <td>1</td>\n",
       "      <td>12</td>\n",
       "    </tr>\n",
       "    <tr>\n",
       "      <th>4044</th>\n",
       "      <td>5744</td>\n",
       "      <td>117</td>\n",
       "      <td>NaN</td>\n",
       "      <td>A little concerned about the number of forest ...</td>\n",
       "      <td>1</td>\n",
       "      <td>13</td>\n",
       "    </tr>\n",
       "    <tr>\n",
       "      <th>1708</th>\n",
       "      <td>2464</td>\n",
       "      <td>50</td>\n",
       "      <td>Oregon</td>\n",
       "      <td>Reading for work has collided with reading for...</td>\n",
       "      <td>0</td>\n",
       "      <td>15</td>\n",
       "    </tr>\n",
       "    <tr>\n",
       "      <th>6533</th>\n",
       "      <td>9344</td>\n",
       "      <td>191</td>\n",
       "      <td>NaN</td>\n",
       "      <td>@TheDailyShow Mahalo nui loa for making my 20s...</td>\n",
       "      <td>0</td>\n",
       "      <td>22</td>\n",
       "    </tr>\n",
       "    <tr>\n",
       "      <th>3356</th>\n",
       "      <td>4803</td>\n",
       "      <td>97</td>\n",
       "      <td>MIchigan</td>\n",
       "      <td>Is it seclusion when a class is evacuated and ...</td>\n",
       "      <td>1</td>\n",
       "      <td>21</td>\n",
       "    </tr>\n",
       "    <tr>\n",
       "      <th>2136</th>\n",
       "      <td>3066</td>\n",
       "      <td>62</td>\n",
       "      <td>UK</td>\n",
       "      <td>500 deaths a year from foodborne illness... @f...</td>\n",
       "      <td>1</td>\n",
       "      <td>13</td>\n",
       "    </tr>\n",
       "    <tr>\n",
       "      <th>1267</th>\n",
       "      <td>1826</td>\n",
       "      <td>37</td>\n",
       "      <td>Massachusetts</td>\n",
       "      <td>@HGF52611 Uh huh. You only have to be burned o...</td>\n",
       "      <td>0</td>\n",
       "      <td>27</td>\n",
       "    </tr>\n",
       "    <tr>\n",
       "      <th>1462</th>\n",
       "      <td>2110</td>\n",
       "      <td>43</td>\n",
       "      <td>Wellington, New Zealand</td>\n",
       "      <td>@APPLEOFFIClAL Migrating from iPhoto to Photo ...</td>\n",
       "      <td>0</td>\n",
       "      <td>25</td>\n",
       "    </tr>\n",
       "    <tr>\n",
       "      <th>203</th>\n",
       "      <td>287</td>\n",
       "      <td>5</td>\n",
       "      <td>USA</td>\n",
       "      <td>Twelve feared killed in Pakistani air ambulanc...</td>\n",
       "      <td>1</td>\n",
       "      <td>11</td>\n",
       "    </tr>\n",
       "    <tr>\n",
       "      <th>5324</th>\n",
       "      <td>7602</td>\n",
       "      <td>155</td>\n",
       "      <td>Dallas Fort-Worth</td>\n",
       "      <td>Pandemonium In Aba As Woman Delivers Baby With...</td>\n",
       "      <td>1</td>\n",
       "      <td>12</td>\n",
       "    </tr>\n",
       "    <tr>\n",
       "      <th>1648</th>\n",
       "      <td>2379</td>\n",
       "      <td>48</td>\n",
       "      <td>USA</td>\n",
       "      <td>Petition | Heartless owner that whipped horse ...</td>\n",
       "      <td>0</td>\n",
       "      <td>20</td>\n",
       "    </tr>\n",
       "    <tr>\n",
       "      <th>2088</th>\n",
       "      <td>3001</td>\n",
       "      <td>60</td>\n",
       "      <td>Milton Keynes</td>\n",
       "      <td>Can't believe Ross is dead???????? @emmerdale ...</td>\n",
       "      <td>0</td>\n",
       "      <td>9</td>\n",
       "    </tr>\n",
       "    <tr>\n",
       "      <th>2937</th>\n",
       "      <td>4220</td>\n",
       "      <td>85</td>\n",
       "      <td>NaN</td>\n",
       "      <td>Visting Georgina at The Drowned Rat Cafe.....a...</td>\n",
       "      <td>1</td>\n",
       "      <td>9</td>\n",
       "    </tr>\n",
       "    <tr>\n",
       "      <th>7423</th>\n",
       "      <td>10620</td>\n",
       "      <td>217</td>\n",
       "      <td>NaN</td>\n",
       "      <td>Police Officer Wounded Suspect Dead After Exch...</td>\n",
       "      <td>1</td>\n",
       "      <td>16</td>\n",
       "    </tr>\n",
       "  </tbody>\n",
       "</table>\n",
       "</div>"
      ],
      "text/plain": [
       "         id  keyword                 location  \\\n",
       "3969   5642      114                       ?    \n",
       "2181   3125       63                 New York   \n",
       "2292   3287       66                   London   \n",
       "4055   5760      117       Tips on my blog at   \n",
       "4516   6417      130                      NaN   \n",
       "184     263        5         Swindon,England    \n",
       "6669   9557      195            BiÌ±an,Laguna   \n",
       "4044   5744      117                      NaN   \n",
       "1708   2464       50                   Oregon   \n",
       "6533   9344      191                      NaN   \n",
       "3356   4803       97                 MIchigan   \n",
       "2136   3066       62                       UK   \n",
       "1267   1826       37            Massachusetts   \n",
       "1462   2110       43  Wellington, New Zealand   \n",
       "203     287        5                      USA   \n",
       "5324   7602      155        Dallas Fort-Worth   \n",
       "1648   2379       48                      USA   \n",
       "2088   3001       60           Milton Keynes    \n",
       "2937   4220       85                      NaN   \n",
       "7423  10620      217                      NaN   \n",
       "\n",
       "                                                   text  target  word_count  \n",
       "3969  @themaine is it too soon to start flooding you...       0          19  \n",
       "2181  Malaysian Officials Say Debris Found on Reunio...       1          14  \n",
       "2292  I could demolish this right now! https://t.co/...       0           7  \n",
       "4055  Tales of the #trees #deep water loving #Lake T...       0          14  \n",
       "4516  AngelRiveraLibÛ_ #Snowden 'may have' broken l...       1          17  \n",
       "184                  @TanSlash waiting for an ambulance       0           5  \n",
       "6669  Meek Mill responds to DrakeÛªs OVO Fest set w...       1          12  \n",
       "4044  A little concerned about the number of forest ...       1          13  \n",
       "1708  Reading for work has collided with reading for...       0          15  \n",
       "6533  @TheDailyShow Mahalo nui loa for making my 20s...       0          22  \n",
       "3356  Is it seclusion when a class is evacuated and ...       1          21  \n",
       "2136  500 deaths a year from foodborne illness... @f...       1          13  \n",
       "1267  @HGF52611 Uh huh. You only have to be burned o...       0          27  \n",
       "1462  @APPLEOFFIClAL Migrating from iPhoto to Photo ...       0          25  \n",
       "203   Twelve feared killed in Pakistani air ambulanc...       1          11  \n",
       "5324  Pandemonium In Aba As Woman Delivers Baby With...       1          12  \n",
       "1648  Petition | Heartless owner that whipped horse ...       0          20  \n",
       "2088  Can't believe Ross is dead???????? @emmerdale ...       0           9  \n",
       "2937  Visting Georgina at The Drowned Rat Cafe.....a...       1           9  \n",
       "7423  Police Officer Wounded Suspect Dead After Exch...       1          16  "
      ]
     },
     "execution_count": 32,
     "metadata": {},
     "output_type": "execute_result"
    }
   ],
   "source": [
    "df.sample(20)"
   ]
  },
  {
   "cell_type": "code",
   "execution_count": 33,
   "metadata": {},
   "outputs": [
    {
     "name": "stdout",
     "output_type": "stream",
     "text": [
      "vocab size: 10000\n"
     ]
    }
   ],
   "source": [
    "import spacy\n",
    "nlp = spacy.load('en_core_web_sm')\n",
    "\n",
    "# Tokenizer-Funktion\n",
    "def tokenizer(text):\n",
    "    # use spacey for tokenization\n",
    "    return [tok.text for tok in nlp.tokenizer(text)]\n",
    "\n",
    "# Vokabular erstellen\n",
    "def build_vocab(texts, vocab_size=None):\n",
    "    word_to_idx = {}\n",
    "    for text in texts:\n",
    "        tokens = tokenizer(text)\n",
    "        for token in tokens:\n",
    "            if token not in word_to_idx:\n",
    "                word_to_idx[token] = len(word_to_idx)\n",
    "    if vocab_size is not None:\n",
    "        word_to_idx = {k: v for k, v in sorted(word_to_idx.items(), key=lambda item: item[1])[:vocab_size]}\n",
    "    return word_to_idx\n",
    "\n",
    "# Texte in Sequenzen von Wortindizes umwandeln\n",
    "def text_to_indices(text, word_to_idx):\n",
    "    tokens = tokenizer(text)\n",
    "    indices = [word_to_idx[token] if token in word_to_idx else 0 for token in tokens]\n",
    "    return indices\n",
    "\n",
    "num_epochs = 2\n",
    "\n",
    "# Aufteilung in Trainings- und Testdaten\n",
    "train_df, test_df = train_test_split(df, test_size=0.2, random_state=42)\n",
    "\n",
    "# Erstellung des Vokabulars\n",
    "texts = train_df['text'].tolist()\n",
    "word_to_idx = build_vocab(texts, vocab_size=10000)\n",
    "vocab_size=len(word_to_idx)\n",
    "print(\"vocab size:\", vocab_size)"
   ]
  },
  {
   "cell_type": "code",
   "execution_count": 34,
   "metadata": {},
   "outputs": [
    {
     "data": {
      "text/plain": [
       "[1636, 98, 24, 9216, 0]"
      ]
     },
     "execution_count": 34,
     "metadata": {},
     "output_type": "execute_result"
    }
   ],
   "source": [
    "def text_pipeline(x):                           \n",
    "    return text_to_indices(x, word_to_idx)\n",
    "\n",
    "text_pipeline(\"This is a test sentence\")"
   ]
  },
  {
   "cell_type": "code",
   "execution_count": 35,
   "metadata": {},
   "outputs": [
    {
     "name": "stdout",
     "output_type": "stream",
     "text": [
      "tensor([158, 159, 160, 105, 161, 119, 162, 163, 164,  13, 165, 166,   0])\n",
      "tensor(10)\n",
      "tensor(0)\n"
     ]
    }
   ],
   "source": [
    "class DisasterTweetsDataset(Dataset):\n",
    "    def __init__(self, df, vocab_size=10000, test=False):\n",
    "        self.df = df\n",
    "        self.vocab_size = vocab_size\n",
    "        self.test = test\n",
    "        \n",
    "    def __len__(self):\n",
    "        return len(self.df)\n",
    "    \n",
    "    def __getitem__(self, idx):\n",
    "        x= self.df.iloc[idx][\"text\"]\n",
    "        keyword = self.df.iloc[idx][\"keyword\"]\n",
    "        if not self.test:\n",
    "            y= self.df.iloc[idx][\"target\"]\n",
    "            y = int(y)\n",
    "            y= torch.tensor(y, dtype=torch.long)\n",
    "        x = text_pipeline(x)\n",
    "        x = torch.tensor(x)\n",
    "        keyword = torch.tensor(keyword, dtype=torch.long)\n",
    "        if not self.test:\n",
    "            return x, keyword, y\n",
    "        return x, keyword\n",
    "    \n",
    "disaster_tweets_dataset = DisasterTweetsDataset(df, vocab_size=vocab_size)\n",
    "x, keyword, y=disaster_tweets_dataset[378]\n",
    "print(x)\n",
    "print(keyword)\n",
    "print(y)"
   ]
  },
  {
   "cell_type": "code",
   "execution_count": 36,
   "metadata": {},
   "outputs": [
    {
     "name": "stdout",
     "output_type": "stream",
     "text": [
      "Tweet 0:' Forest fire near La Ronge Sask. Canada ' |  target 1\n",
      "Tweet 1:' Forest fire near La Ronge Sask. Canada ' |  target 1\n",
      "(tensor([[  71,    0,  866,   44, 7906,    4,  110,   13, 2904, 2090,    0,    0,\n",
      "          227,  343,    0,    0,    0,    0,    0,    0,    0,    0,    0,    0,\n",
      "            0,    0,    0,    0,    0,    0],\n",
      "        [ 439,  495,  554, 2356,    0,    0,   12, 8618,    0,    0,    0,    0,\n",
      "            0,    0,    0,    0,    0,    0,    0,    0,    0,    0,    0,    0,\n",
      "            0,    0,    0,    0,    0,    0]]), tensor([0, 0]), tensor([1, 1]))\n"
     ]
    },
    {
     "name": "stderr",
     "output_type": "stream",
     "text": [
      "C:\\Users\\Shadow\\AppData\\Local\\Temp\\ipykernel_5648\\790357553.py:5: UserWarning: To copy construct from a tensor, it is recommended to use sourceTensor.clone().detach() or sourceTensor.clone().detach().requires_grad_(True), rather than torch.tensor(sourceTensor).\n",
      "  x = [torch.tensor(text, dtype=torch.long) for text in x]\n"
     ]
    }
   ],
   "source": [
    "\n",
    "sequence_length = 30\n",
    "\n",
    "def collate_batch(batch):\n",
    "    x, keyword, y = zip(*batch)\n",
    "    x = [torch.tensor(text, dtype=torch.long) for text in x]\n",
    "    empty_dummy_for_fixed_length = torch.zeros(sequence_length, dtype=torch.long)\n",
    "    x = torch.stack([torch.cat((text, empty_dummy_for_fixed_length))[:sequence_length] for text in x])\n",
    "    y = torch.stack(y)\n",
    "    keywords=torch.stack(keyword)\n",
    "    return x, keywords, y\n",
    "\n",
    "\n",
    "# test custom collate function\n",
    "\n",
    "print(\"Tweet 0:'\", df.iloc[1].text, \"' |  target\", df.iloc[0].target)\n",
    "print(\"Tweet 1:'\", df.iloc[1].text, \"' |  target\", df.iloc[1].target)\n",
    "print(collate_batch([disaster_tweets_dataset[0], disaster_tweets_dataset[1]]))"
   ]
  },
  {
   "cell_type": "code",
   "execution_count": 37,
   "metadata": {},
   "outputs": [
    {
     "name": "stdout",
     "output_type": "stream",
     "text": [
      "x:  tensor([[2194,    1,  675,   10,   44, 1658,  304,  235, 2941,    6,  617, 1752,\n",
      "          304,   86, 4564,    1,    0,  304, 1242,  235, 3915, 1234, 4415,  235,\n",
      "            0,   64,    0,    0,    0,    0],\n",
      "        [  38,  140,    0,    0,  223,    0,  119, 3121, 1419,    6,  617, 7867,\n",
      "            6,   44,    0,  164,  204,    0,    0,    0,    0,    0,    0,    0,\n",
      "            0,    0,    0,    0,    0,    0],\n",
      "        [   0, 7266, 4388,    6, 1037,  283,  298, 3588,  132,  235,   75,  504,\n",
      "         5792,  225,  105,    0,   12,    0,   85,  235, 2753,  964,    0,  132,\n",
      "         3369,  322,  440,    0,   13,    0],\n",
      "        [   0,  119, 1038,    0,    1,  886,    0,   44, 1553, 8394,   98,   24,\n",
      "          306,  460,  432,   12,    0,    0,    0,    0,    0,    0,    0,    0,\n",
      "            0,    0,    0,    0,    0,    0]])\n",
      "keywords:  tensor([ 73, 212, 137, 218])\n",
      "y:  tensor([0, 1, 0, 0])\n",
      "model output:  tensor([[ 0.1389,  1.2963],\n",
      "        [-0.6048, -0.9999],\n",
      "        [ 0.9733, -0.9982],\n",
      "        [ 0.4198, -2.1523]], grad_fn=<AddmmBackward0>)\n",
      "End Batch\n",
      "\n",
      "\n",
      "\n",
      "x:  tensor([[2667, 2668,  225, 2669, 2670, 2671, 2672, 1047, 2673, 2674, 2675, 2676,\n",
      "         2677, 2678,    0,    0,    0,    0,    0,    0,    0,    0,    0,    0,\n",
      "            0,    0,    0,    0,    0,    0],\n",
      "        [  13,    0, 1084, 1097,  171,    0,    0,   10,  186,    0,  237,    0,\n",
      "          904,  368,   12, 4108,  315,  171,  836,   10,   24, 5952,   50,   51,\n",
      "           52,    0,    0,    0,    0,    0],\n",
      "        [ 121,    0,  619,  123,    0, 3306,   67,    0,  614,    0,  619,    0,\n",
      "            0,    0,    0,    0,    0,    0,    0,    0,    0,    0,    0,    0,\n",
      "            0,    0,    0,    0,    0,    0],\n",
      "        [ 908,   10, 5242, 1846, 5243, 4391, 2355,  721,  225,  722,  723,   67,\n",
      "         5244, 1658,  154, 5245,  225, 8448, 8121, 5243, 1076,   95,    0,    0,\n",
      "            0,    0,    0,    0,    0,    0]])\n",
      "keywords:  tensor([101,  62, 106,   4])\n",
      "y:  tensor([1, 1, 0, 1])\n",
      "model output:  tensor([[ 1.7007,  0.8376],\n",
      "        [ 1.0531, -0.5049],\n",
      "        [-0.4064,  2.3560],\n",
      "        [ 0.5143,  1.3068]], grad_fn=<AddmmBackward0>)\n",
      "End Batch\n",
      "\n",
      "\n",
      "\n",
      "x:  tensor([[ 235, 1623, 4260,  356,   69,   98,   27,  235,  223,    6,  593,  371,\n",
      "         2070,    6,    0,  237,   12,    0,    0,    0,    0,    0,    0,    0,\n",
      "            0,    0,    0,    0,    0,    0],\n",
      "        [   0,    0,  699,   10,   44,    0,  460,    0,    0,    0,    0,    0,\n",
      "            0,    0,    0,    0,    0,    0,    0,    0,    0,    0,    0,    0,\n",
      "            0,    0,    0,    0,    0,    0]])\n",
      "keywords:  tensor([215, 126])\n",
      "y:  tensor([0, 1])\n",
      "model output:  tensor([[ 0.0911, -1.4677],\n",
      "        [ 0.0075,  2.4053]], grad_fn=<AddmmBackward0>)\n",
      "End Batch\n",
      "\n",
      "\n",
      "\n"
     ]
    },
    {
     "name": "stderr",
     "output_type": "stream",
     "text": [
      "c:\\Users\\Shadow\\anaconda3\\envs\\mytorch\\lib\\site-packages\\torch\\nn\\modules\\transformer.py:282: UserWarning: enable_nested_tensor is True, but self.use_nested_tensor is False because encoder_layer.self_attn.batch_first was not True(use batch_first for better inference performance)\n",
      "  warnings.warn(f\"enable_nested_tensor is True, but self.use_nested_tensor is False because {why_not_sparsity_fast_path}\")\n",
      "C:\\Users\\Shadow\\AppData\\Local\\Temp\\ipykernel_5648\\790357553.py:5: UserWarning: To copy construct from a tensor, it is recommended to use sourceTensor.clone().detach() or sourceTensor.clone().detach().requires_grad_(True), rather than torch.tensor(sourceTensor).\n",
      "  x = [torch.tensor(text, dtype=torch.long) for text in x]\n"
     ]
    }
   ],
   "source": [
    "\n",
    "\n",
    "from torch import nn\n",
    "import torch.nn.init as init\n",
    "import math\n",
    "\n",
    "class PositionalEncoding(nn.Module):\n",
    "    def __init__(self, d_model, dropout=0.1, max_len=5000):\n",
    "        super(PositionalEncoding, self).__init__()\n",
    "        self.dropout = nn.Dropout(p=dropout)\n",
    "        position = torch.arange(max_len).unsqueeze(1)\n",
    "        div_term = torch.exp(torch.arange(0, d_model, 2) * -(math.log(10000.0) / d_model))\n",
    "        pe = torch.zeros(max_len, 1, d_model)\n",
    "        pe[:, 0, 0::2] = torch.sin(position * div_term)\n",
    "        pe[:, 0, 1::2] = torch.cos(position * div_term)\n",
    "        self.register_buffer('pe', pe)\n",
    "\n",
    "    def forward(self, x):\n",
    "        x = x + self.pe[:x.size(0)]\n",
    "        return self.dropout(x)\n",
    "\n",
    "class TextClassificationModel(nn.Module):\n",
    "\n",
    "    def __init__(self, \n",
    "                 vocab_size=None, \n",
    "                 transformer_embedding_dim=None,  \n",
    "                 transformer_feedforward_dim=None,\n",
    "                 num_class= None, \n",
    "                 keywords_size=30, \n",
    "                 keyword_embedding_dim=4, \n",
    "                 attention_head_number=4,\n",
    "                 num_transformer_layers=2,\n",
    "                 hidden_size=100,\n",
    "                 sequence_length=30,\n",
    "                 dropout=0.5):\n",
    "        \n",
    "        super(TextClassificationModel, self).__init__()\n",
    "        self.transformer_embedding_dim=transformer_embedding_dim\n",
    "        self.embedding = nn.Embedding(vocab_size, transformer_embedding_dim)\n",
    "        self.transformer_layer = nn.TransformerEncoderLayer(\n",
    "            d_model=transformer_embedding_dim,\n",
    "            nhead=attention_head_number,  \n",
    "            dim_feedforward=transformer_feedforward_dim,\n",
    "        )\n",
    "        self.pos_encoder = PositionalEncoding(transformer_embedding_dim, dropout)\n",
    "        self.transformer = nn.TransformerEncoder(self.transformer_layer, num_layers=num_transformer_layers)\n",
    "        self.keywords_embedding = nn.Embedding(keywords_size, keyword_embedding_dim)\n",
    "        self.fc1 = nn.Linear(sequence_length*transformer_embedding_dim+keyword_embedding_dim, hidden_size)\n",
    "        self.dropout = nn.Dropout(dropout)\n",
    "        self.fc2= nn.Linear(hidden_size, num_class)\n",
    "        self.batch_norm1 = nn.BatchNorm1d(sequence_length*transformer_embedding_dim+keyword_embedding_dim)\n",
    "        self.batch_norm2 = nn.BatchNorm1d(hidden_size)\n",
    "        self.relu=nn.ReLU()\n",
    "        self.init_weights()\n",
    "        \n",
    "\n",
    "    def init_weights(self):\n",
    "        initrange = 0.5\n",
    "        # uniform initialisation for the embedding layer\n",
    "        self.embedding.weight.data.uniform_(-initrange, initrange)\n",
    "        #self.fc.weight.data.uniform_(-initrange, initrange)\n",
    "        #self.fc.bias.data.zero_()\n",
    "        \n",
    "        # He initialisation for the weights of the fully connected layer\n",
    "        for m in self.modules():\n",
    "            if isinstance(m, nn.Linear):\n",
    "                init.kaiming_normal_(m.weight, mode='fan_in', nonlinearity='relu')\n",
    "                if m.bias is not None:\n",
    "                    m.bias.data.fill_(0.0)\n",
    "\n",
    "    def forward(self, text, keywords):\n",
    "        #print(\"text shape: \", text.shape)\n",
    "        embedded = self.embedding(text)* math.sqrt(self.transformer_embedding_dim)\n",
    "        embedded=self.pos_encoder(embedded)\n",
    "        #print(\"embedded shape: \", embedded.shape)\n",
    "        embedded = embedded.permute(1, 0, 2)  # Shape: (word_count, batch_size, embedding_dim)\n",
    "        #print(\"embedded 2 shape: \", embedded.shape)\n",
    "        transformer_output = self.transformer(embedded)\n",
    "        #print(\"transformer_output 1 shape: \", transformer_output.shape)\n",
    "        transformer_output = transformer_output.permute(1, 0, 2)  # Back to (batch_size, word_count, embedding_dim)\n",
    "        #print(\"transformer_output 2 shape: \", transformer_output.shape)\n",
    "        transformer_output = transformer_output.contiguous().view(transformer_output.size(0), -1)\n",
    "        #print(\"transformer_output  3 shape: \", transformer_output.shape)\n",
    "        keywords_embedded = self.keywords_embedding(keywords)\n",
    "        #print(\"keywords_embedded shape: \", keywords_embedded.shape)\n",
    "        embedded = torch.cat((transformer_output, keywords_embedded), dim=1)\n",
    "        #print(\"embedded.shape\"  , embedded.shape)\n",
    "        out=self.batch_norm1(embedded)\n",
    "        out=self.dropout(out)\n",
    "        out=self.fc1(out)\n",
    "        out=self.batch_norm2(out)\n",
    "        out=self.dropout(out)\n",
    "        out=self.relu(out)\n",
    "        return self.fc2(out)\n",
    "\n",
    "\n",
    "# test all together\n",
    "df_to_test=df.sample(10)\n",
    "dataset_to_test = DisasterTweetsDataset(df_to_test, vocab_size=vocab_size)\n",
    "dataloader_to_test = DataLoader(dataset_to_test, batch_size=4, shuffle=True, collate_fn=collate_batch)\n",
    "model=TextClassificationModel(\n",
    "    vocab_size=vocab_size,\n",
    "    transformer_embedding_dim=32,\n",
    "    transformer_feedforward_dim=64,\n",
    "    keyword_embedding_dim=10, \n",
    "    attention_head_number=4,\n",
    "    num_transformer_layers=6,\n",
    "    hidden_size=100,\n",
    "    num_class=2, \n",
    "    keywords_size=df.keyword.nunique())\n",
    "for x, keywords, y in dataloader_to_test:\n",
    "    print(\"x: \", x)\n",
    "    print(\"keywords: \", keywords)\n",
    "    print(\"y: \", y)\n",
    "    print(\"model output: \" , model(x, keywords))\n",
    "    print(\"End Batch\\n\\n\\n\")"
   ]
  },
  {
   "cell_type": "code",
   "execution_count": 38,
   "metadata": {},
   "outputs": [],
   "source": [
    "class Learner():\n",
    "    \n",
    "    def __init__(self, model, train_dataloader, valid_dataloader, optimizer, scheduler, loss_func, device):\n",
    "        self.model=model\n",
    "        self.device=device\n",
    "        self.model=self.model.to(self.device)\n",
    "        self.train_dataloader=train_dataloader\n",
    "        self.valid_dataloader=valid_dataloader\n",
    "        self.optimizer=optimizer\n",
    "        self.scheduler=scheduler\n",
    "        self.loss_func=loss_func\n",
    "        self.accu_train=[]\n",
    "        self.accu_valid=[]\n",
    "\n",
    "    def evaluate(self, loader):\n",
    "        model.eval()\n",
    "        total_acc, total_count = 0, 0\n",
    "        with torch.no_grad():\n",
    "            for idx, (x, keywords, y) in enumerate(loader):\n",
    "                x=x.to(self.device)\n",
    "                keywords=keywords.to(self.device)\n",
    "                y=y.to(self.device)\n",
    "                predicted_label = model(x, keywords)\n",
    "                total_acc += (predicted_label.argmax(1) == y).sum().item()\n",
    "                total_count += y.size(0)\n",
    "        return total_acc/total_count\n",
    "\n",
    "\n",
    "    def fit_one_epoch(self):\n",
    "        epoch_start_time = time.time()\n",
    "        self.model.train()\n",
    "\n",
    "        for idx, (x, keywords, y) in enumerate(self.train_dataloader):\n",
    "            self.optimizer.zero_grad()\n",
    "            x=x.to(self.device)\n",
    "            y=y.to(self.device)\n",
    "            keywords=keywords.to(self.device)\n",
    "            predicted_label = model(x, keywords)\n",
    "            loss = self.loss_func(predicted_label, y)\n",
    "            loss.backward()\n",
    "            self.optimizer.step()\n",
    "\n",
    "        accu_train = self.evaluate(self.train_dataloader)\n",
    "        accu_valid = self.evaluate(self.valid_dataloader)\n",
    "        self.accu_train.append(accu_train)\n",
    "        self.accu_valid.append(accu_valid)\n",
    "        self.scheduler.step() \n",
    "        return (time.time() - epoch_start_time)\n",
    "\n",
    "    def fit_epochs(self, number=None):\n",
    "        bar=tqdm(range(number)) if number else range(number)\n",
    "        for epoch in bar:\n",
    "            epoch_time=self.fit_one_epoch()\n",
    "            #print('-' * 59)\n",
    "            #print('| end of epoch {:3d} | time: {:5.2f}s | train accuracy {:8.3f} | valid accuracy {:8.3f} | lr: {:1.2f}'.format(\n",
    "            #                            epoch,\n",
    "            #                            epoch_time,\n",
    "            #                            self.accu_train[-1],\n",
    "            #                            self.accu_valid[-1],\n",
    "            #                            self.scheduler.get_last_lr()[0]))    \n",
    "            bar.set_description('Epoch: {} - accu_train: {:8.3f} - accu_valid: {:8.3f}'.format(epoch, self.accu_train[-1], self.accu_valid[-1]))\n",
    "\n",
    "    def plot_training(self):\n",
    "        plt.plot(self.accu_train, label=\"train accuracy\")\n",
    "        plt.plot(self.accu_valid, label=\"valid accuracy\")\n",
    "        plt.legend()\n",
    "        plt.show()"
   ]
  },
  {
   "cell_type": "code",
   "execution_count": 39,
   "metadata": {},
   "outputs": [],
   "source": [
    "if torch.cuda.is_available():\n",
    "    device = torch.device(\"cuda\")\n",
    "elif torch.backends.mps.is_available():\n",
    "    device = torch.device(\"mps\")\n",
    "else:\n",
    "    device = torch.device(\"cpu\")\n",
    "\n",
    "if kaggle==False:\n",
    "    device = torch.device(\"cpu\")\n",
    "\n",
    "\n",
    "\n",
    "# Hyperparameters\n",
    "LR = 0.001  # learning rate\n",
    "BATCH_SIZE = 256 # batch size for training\n",
    "\n",
    "\n",
    "model = TextClassificationModel(\n",
    "    vocab_size=vocab_size,\n",
    "    transformer_embedding_dim=512,\n",
    "    transformer_feedforward_dim=2048,\n",
    "    keyword_embedding_dim=30, \n",
    "    attention_head_number=8,\n",
    "    num_transformer_layers=4,\n",
    "    hidden_size=75,\n",
    "    num_class=2, \n",
    "    keywords_size=df.keyword.nunique())\n",
    "\n",
    "train_dataset=DisasterTweetsDataset(train_df, vocab_size=vocab_size)\n",
    "train_dataloader = DataLoader(train_dataset, batch_size=BATCH_SIZE,\n",
    "                              shuffle=True, collate_fn=collate_batch)\n",
    "valid_dataset=DisasterTweetsDataset(test_df, vocab_size=vocab_size)\n",
    "valid_dataloader = DataLoader(valid_dataset, batch_size=BATCH_SIZE, collate_fn=collate_batch)\n",
    "\n",
    "loss_func = torch.nn.CrossEntropyLoss()\n",
    "#\n",
    "optimizer = torch.optim.AdamW(model.parameters(), lr=LR)\n",
    "#scheduler = torch.optim.lr_scheduler.StepLR(optimizer, 10.0, gamma=0.9)   # every 3 epochs, LR is multiplied by 0.7\n",
    "# cosine scheduler\n",
    "scheduler = torch.optim.lr_scheduler.CosineAnnealingLR(optimizer, 5, eta_min=0.0001)\n",
    "\n",
    "learner=Learner(model, train_dataloader, valid_dataloader, optimizer, scheduler, loss_func, device)"
   ]
  },
  {
   "cell_type": "code",
   "execution_count": 40,
   "metadata": {},
   "outputs": [
    {
     "name": "stderr",
     "output_type": "stream",
     "text": [
      "C:\\Users\\Shadow\\AppData\\Local\\Temp\\ipykernel_5648\\790357553.py:5: UserWarning: To copy construct from a tensor, it is recommended to use sourceTensor.clone().detach() or sourceTensor.clone().detach().requires_grad_(True), rather than torch.tensor(sourceTensor).\n",
      "  x = [torch.tensor(text, dtype=torch.long) for text in x]\n",
      "  0%|          | 0/1 [03:03<?, ?it/s]\n"
     ]
    },
    {
     "ename": "KeyboardInterrupt",
     "evalue": "",
     "output_type": "error",
     "traceback": [
      "\u001b[1;31m---------------------------------------------------------------------------\u001b[0m",
      "\u001b[1;31mKeyboardInterrupt\u001b[0m                         Traceback (most recent call last)",
      "Cell \u001b[1;32mIn[40], line 1\u001b[0m\n\u001b[1;32m----> 1\u001b[0m \u001b[43mlearner\u001b[49m\u001b[38;5;241;43m.\u001b[39;49m\u001b[43mfit_epochs\u001b[49m\u001b[43m(\u001b[49m\u001b[38;5;241;43m1\u001b[39;49m\u001b[43m)\u001b[49m\n\u001b[0;32m      2\u001b[0m learner\u001b[38;5;241m.\u001b[39mplot_training()\n",
      "Cell \u001b[1;32mIn[38], line 53\u001b[0m, in \u001b[0;36mLearner.fit_epochs\u001b[1;34m(self, number)\u001b[0m\n\u001b[0;32m     51\u001b[0m bar\u001b[38;5;241m=\u001b[39mtqdm(\u001b[38;5;28mrange\u001b[39m(number)) \u001b[38;5;28;01mif\u001b[39;00m number \u001b[38;5;28;01melse\u001b[39;00m \u001b[38;5;28mrange\u001b[39m(number)\n\u001b[0;32m     52\u001b[0m \u001b[38;5;28;01mfor\u001b[39;00m epoch \u001b[38;5;129;01min\u001b[39;00m bar:\n\u001b[1;32m---> 53\u001b[0m     epoch_time\u001b[38;5;241m=\u001b[39m\u001b[38;5;28;43mself\u001b[39;49m\u001b[38;5;241;43m.\u001b[39;49m\u001b[43mfit_one_epoch\u001b[49m\u001b[43m(\u001b[49m\u001b[43m)\u001b[49m\n\u001b[0;32m     54\u001b[0m     \u001b[38;5;66;03m#print('-' * 59)\u001b[39;00m\n\u001b[0;32m     55\u001b[0m     \u001b[38;5;66;03m#print('| end of epoch {:3d} | time: {:5.2f}s | train accuracy {:8.3f} | valid accuracy {:8.3f} | lr: {:1.2f}'.format(\u001b[39;00m\n\u001b[0;32m     56\u001b[0m     \u001b[38;5;66;03m#                            epoch,\u001b[39;00m\n\u001b[1;32m   (...)\u001b[0m\n\u001b[0;32m     59\u001b[0m     \u001b[38;5;66;03m#                            self.accu_valid[-1],\u001b[39;00m\n\u001b[0;32m     60\u001b[0m     \u001b[38;5;66;03m#                            self.scheduler.get_last_lr()[0]))    \u001b[39;00m\n\u001b[0;32m     61\u001b[0m     bar\u001b[38;5;241m.\u001b[39mset_description(\u001b[38;5;124m'\u001b[39m\u001b[38;5;124mEpoch: \u001b[39m\u001b[38;5;132;01m{}\u001b[39;00m\u001b[38;5;124m - accu_train: \u001b[39m\u001b[38;5;132;01m{:8.3f}\u001b[39;00m\u001b[38;5;124m - accu_valid: \u001b[39m\u001b[38;5;132;01m{:8.3f}\u001b[39;00m\u001b[38;5;124m'\u001b[39m\u001b[38;5;241m.\u001b[39mformat(epoch, \u001b[38;5;28mself\u001b[39m\u001b[38;5;241m.\u001b[39maccu_train[\u001b[38;5;241m-\u001b[39m\u001b[38;5;241m1\u001b[39m], \u001b[38;5;28mself\u001b[39m\u001b[38;5;241m.\u001b[39maccu_valid[\u001b[38;5;241m-\u001b[39m\u001b[38;5;241m1\u001b[39m]))\n",
      "Cell \u001b[1;32mIn[38], line 40\u001b[0m, in \u001b[0;36mLearner.fit_one_epoch\u001b[1;34m(self)\u001b[0m\n\u001b[0;32m     38\u001b[0m     predicted_label \u001b[38;5;241m=\u001b[39m model(x, keywords)\n\u001b[0;32m     39\u001b[0m     loss \u001b[38;5;241m=\u001b[39m \u001b[38;5;28mself\u001b[39m\u001b[38;5;241m.\u001b[39mloss_func(predicted_label, y)\n\u001b[1;32m---> 40\u001b[0m     \u001b[43mloss\u001b[49m\u001b[38;5;241;43m.\u001b[39;49m\u001b[43mbackward\u001b[49m\u001b[43m(\u001b[49m\u001b[43m)\u001b[49m\n\u001b[0;32m     41\u001b[0m     \u001b[38;5;28mself\u001b[39m\u001b[38;5;241m.\u001b[39moptimizer\u001b[38;5;241m.\u001b[39mstep()\n\u001b[0;32m     43\u001b[0m accu_train \u001b[38;5;241m=\u001b[39m \u001b[38;5;28mself\u001b[39m\u001b[38;5;241m.\u001b[39mevaluate(\u001b[38;5;28mself\u001b[39m\u001b[38;5;241m.\u001b[39mtrain_dataloader)\n",
      "File \u001b[1;32mc:\\Users\\Shadow\\anaconda3\\envs\\mytorch\\lib\\site-packages\\torch\\_tensor.py:492\u001b[0m, in \u001b[0;36mTensor.backward\u001b[1;34m(self, gradient, retain_graph, create_graph, inputs)\u001b[0m\n\u001b[0;32m    482\u001b[0m \u001b[38;5;28;01mif\u001b[39;00m has_torch_function_unary(\u001b[38;5;28mself\u001b[39m):\n\u001b[0;32m    483\u001b[0m     \u001b[38;5;28;01mreturn\u001b[39;00m handle_torch_function(\n\u001b[0;32m    484\u001b[0m         Tensor\u001b[38;5;241m.\u001b[39mbackward,\n\u001b[0;32m    485\u001b[0m         (\u001b[38;5;28mself\u001b[39m,),\n\u001b[1;32m   (...)\u001b[0m\n\u001b[0;32m    490\u001b[0m         inputs\u001b[38;5;241m=\u001b[39minputs,\n\u001b[0;32m    491\u001b[0m     )\n\u001b[1;32m--> 492\u001b[0m \u001b[43mtorch\u001b[49m\u001b[38;5;241;43m.\u001b[39;49m\u001b[43mautograd\u001b[49m\u001b[38;5;241;43m.\u001b[39;49m\u001b[43mbackward\u001b[49m\u001b[43m(\u001b[49m\n\u001b[0;32m    493\u001b[0m \u001b[43m    \u001b[49m\u001b[38;5;28;43mself\u001b[39;49m\u001b[43m,\u001b[49m\u001b[43m \u001b[49m\u001b[43mgradient\u001b[49m\u001b[43m,\u001b[49m\u001b[43m \u001b[49m\u001b[43mretain_graph\u001b[49m\u001b[43m,\u001b[49m\u001b[43m \u001b[49m\u001b[43mcreate_graph\u001b[49m\u001b[43m,\u001b[49m\u001b[43m \u001b[49m\u001b[43minputs\u001b[49m\u001b[38;5;241;43m=\u001b[39;49m\u001b[43minputs\u001b[49m\n\u001b[0;32m    494\u001b[0m \u001b[43m\u001b[49m\u001b[43m)\u001b[49m\n",
      "File \u001b[1;32mc:\\Users\\Shadow\\anaconda3\\envs\\mytorch\\lib\\site-packages\\torch\\autograd\\__init__.py:251\u001b[0m, in \u001b[0;36mbackward\u001b[1;34m(tensors, grad_tensors, retain_graph, create_graph, grad_variables, inputs)\u001b[0m\n\u001b[0;32m    246\u001b[0m     retain_graph \u001b[38;5;241m=\u001b[39m create_graph\n\u001b[0;32m    248\u001b[0m \u001b[38;5;66;03m# The reason we repeat the same comment below is that\u001b[39;00m\n\u001b[0;32m    249\u001b[0m \u001b[38;5;66;03m# some Python versions print out the first line of a multi-line function\u001b[39;00m\n\u001b[0;32m    250\u001b[0m \u001b[38;5;66;03m# calls in the traceback and some print out the last line\u001b[39;00m\n\u001b[1;32m--> 251\u001b[0m \u001b[43mVariable\u001b[49m\u001b[38;5;241;43m.\u001b[39;49m\u001b[43m_execution_engine\u001b[49m\u001b[38;5;241;43m.\u001b[39;49m\u001b[43mrun_backward\u001b[49m\u001b[43m(\u001b[49m\u001b[43m  \u001b[49m\u001b[38;5;66;43;03m# Calls into the C++ engine to run the backward pass\u001b[39;49;00m\n\u001b[0;32m    252\u001b[0m \u001b[43m    \u001b[49m\u001b[43mtensors\u001b[49m\u001b[43m,\u001b[49m\n\u001b[0;32m    253\u001b[0m \u001b[43m    \u001b[49m\u001b[43mgrad_tensors_\u001b[49m\u001b[43m,\u001b[49m\n\u001b[0;32m    254\u001b[0m \u001b[43m    \u001b[49m\u001b[43mretain_graph\u001b[49m\u001b[43m,\u001b[49m\n\u001b[0;32m    255\u001b[0m \u001b[43m    \u001b[49m\u001b[43mcreate_graph\u001b[49m\u001b[43m,\u001b[49m\n\u001b[0;32m    256\u001b[0m \u001b[43m    \u001b[49m\u001b[43minputs\u001b[49m\u001b[43m,\u001b[49m\n\u001b[0;32m    257\u001b[0m \u001b[43m    \u001b[49m\u001b[43mallow_unreachable\u001b[49m\u001b[38;5;241;43m=\u001b[39;49m\u001b[38;5;28;43;01mTrue\u001b[39;49;00m\u001b[43m,\u001b[49m\n\u001b[0;32m    258\u001b[0m \u001b[43m    \u001b[49m\u001b[43maccumulate_grad\u001b[49m\u001b[38;5;241;43m=\u001b[39;49m\u001b[38;5;28;43;01mTrue\u001b[39;49;00m\u001b[43m,\u001b[49m\n\u001b[0;32m    259\u001b[0m \u001b[43m\u001b[49m\u001b[43m)\u001b[49m\n",
      "\u001b[1;31mKeyboardInterrupt\u001b[0m: "
     ]
    }
   ],
   "source": [
    "learner.fit_epochs(1)\n",
    "learner.plot_training()"
   ]
  },
  {
   "cell_type": "code",
   "execution_count": null,
   "metadata": {},
   "outputs": [
    {
     "data": {
      "application/vnd.jupyter.widget-view+json": {
       "model_id": "60519357d4cf4086a58daf3864ea696c",
       "version_major": 2,
       "version_minor": 0
      },
      "text/plain": [
       "  0%|          | 0/24 [00:00<?, ?it/s]"
      ]
     },
     "metadata": {},
     "output_type": "display_data"
    },
    {
     "name": "stderr",
     "output_type": "stream",
     "text": [
      "/var/folders/yl/qjs6b9wn4zx7nh630c4my9lw0000gn/T/ipykernel_91274/790357553.py:5: UserWarning: To copy construct from a tensor, it is recommended to use sourceTensor.clone().detach() or sourceTensor.clone().detach().requires_grad_(True), rather than torch.tensor(sourceTensor).\n",
      "  x = [torch.tensor(text, dtype=torch.long) for text in x]\n"
     ]
    },
    {
     "name": "stdout",
     "output_type": "stream",
     "text": [
      "-----------------------------------------------------------\n",
      "| end of epoch   0 | time: 39.51s | train accuracy    0.569 | valid accuracy    0.574 | lr: 0.00\n"
     ]
    },
    {
     "data": {
      "application/vnd.jupyter.widget-view+json": {
       "model_id": "f75ab0991a154747ab841a0c14ecef67",
       "version_major": 2,
       "version_minor": 0
      },
      "text/plain": [
       "  0%|          | 0/24 [00:00<?, ?it/s]"
      ]
     },
     "metadata": {},
     "output_type": "display_data"
    },
    {
     "name": "stdout",
     "output_type": "stream",
     "text": [
      "-----------------------------------------------------------\n",
      "| end of epoch   1 | time: 39.11s | train accuracy    0.588 | valid accuracy    0.584 | lr: 0.00\n"
     ]
    },
    {
     "data": {
      "application/vnd.jupyter.widget-view+json": {
       "model_id": "9d0aacf974264f9ab0d5769e8d0d1da5",
       "version_major": 2,
       "version_minor": 0
      },
      "text/plain": [
       "  0%|          | 0/24 [00:00<?, ?it/s]"
      ]
     },
     "metadata": {},
     "output_type": "display_data"
    },
    {
     "name": "stdout",
     "output_type": "stream",
     "text": [
      "-----------------------------------------------------------\n",
      "| end of epoch   2 | time: 39.96s | train accuracy    0.431 | valid accuracy    0.426 | lr: 0.00\n"
     ]
    },
    {
     "data": {
      "application/vnd.jupyter.widget-view+json": {
       "model_id": "ffe0869707d644fdab052d37663bffc5",
       "version_major": 2,
       "version_minor": 0
      },
      "text/plain": [
       "  0%|          | 0/24 [00:00<?, ?it/s]"
      ]
     },
     "metadata": {},
     "output_type": "display_data"
    },
    {
     "name": "stdout",
     "output_type": "stream",
     "text": [
      "-----------------------------------------------------------\n",
      "| end of epoch   3 | time: 41.41s | train accuracy    0.613 | valid accuracy    0.624 | lr: 0.00\n"
     ]
    },
    {
     "data": {
      "application/vnd.jupyter.widget-view+json": {
       "model_id": "3e8e66146972423a822376c308396106",
       "version_major": 2,
       "version_minor": 0
      },
      "text/plain": [
       "  0%|          | 0/24 [00:00<?, ?it/s]"
      ]
     },
     "metadata": {},
     "output_type": "display_data"
    },
    {
     "name": "stdout",
     "output_type": "stream",
     "text": [
      "-----------------------------------------------------------\n",
      "| end of epoch   4 | time: 41.35s | train accuracy    0.723 | valid accuracy    0.709 | lr: 0.00\n"
     ]
    },
    {
     "data": {
      "application/vnd.jupyter.widget-view+json": {
       "model_id": "7131520bf26d43b5a12a00c8b77e5396",
       "version_major": 2,
       "version_minor": 0
      },
      "text/plain": [
       "  0%|          | 0/24 [00:00<?, ?it/s]"
      ]
     },
     "metadata": {},
     "output_type": "display_data"
    },
    {
     "name": "stdout",
     "output_type": "stream",
     "text": [
      "-----------------------------------------------------------\n",
      "| end of epoch   5 | time: 39.58s | train accuracy    0.733 | valid accuracy    0.710 | lr: 0.00\n"
     ]
    },
    {
     "data": {
      "application/vnd.jupyter.widget-view+json": {
       "model_id": "c9c06c84ded04a7a8deb3bdbcf54cd30",
       "version_major": 2,
       "version_minor": 0
      },
      "text/plain": [
       "  0%|          | 0/24 [00:00<?, ?it/s]"
      ]
     },
     "metadata": {},
     "output_type": "display_data"
    },
    {
     "name": "stdout",
     "output_type": "stream",
     "text": [
      "-----------------------------------------------------------\n",
      "| end of epoch   6 | time: 39.64s | train accuracy    0.736 | valid accuracy    0.712 | lr: 0.00\n"
     ]
    },
    {
     "data": {
      "application/vnd.jupyter.widget-view+json": {
       "model_id": "9250ff4b8f3e46c5871497ef1ecb2ef8",
       "version_major": 2,
       "version_minor": 0
      },
      "text/plain": [
       "  0%|          | 0/24 [00:00<?, ?it/s]"
      ]
     },
     "metadata": {},
     "output_type": "display_data"
    },
    {
     "name": "stdout",
     "output_type": "stream",
     "text": [
      "-----------------------------------------------------------\n",
      "| end of epoch   7 | time: 39.99s | train accuracy    0.712 | valid accuracy    0.676 | lr: 0.00\n"
     ]
    },
    {
     "data": {
      "application/vnd.jupyter.widget-view+json": {
       "model_id": "50a46dc116a144fe8117766f37ad8381",
       "version_major": 2,
       "version_minor": 0
      },
      "text/plain": [
       "  0%|          | 0/24 [00:00<?, ?it/s]"
      ]
     },
     "metadata": {},
     "output_type": "display_data"
    },
    {
     "name": "stdout",
     "output_type": "stream",
     "text": [
      "-----------------------------------------------------------\n",
      "| end of epoch   8 | time: 41.02s | train accuracy    0.805 | valid accuracy    0.756 | lr: 0.00\n"
     ]
    },
    {
     "data": {
      "application/vnd.jupyter.widget-view+json": {
       "model_id": "60e967980b134590b74aca262416abbd",
       "version_major": 2,
       "version_minor": 0
      },
      "text/plain": [
       "  0%|          | 0/24 [00:00<?, ?it/s]"
      ]
     },
     "metadata": {},
     "output_type": "display_data"
    },
    {
     "name": "stdout",
     "output_type": "stream",
     "text": [
      "-----------------------------------------------------------\n",
      "| end of epoch   9 | time: 42.07s | train accuracy    0.806 | valid accuracy    0.743 | lr: 0.00\n"
     ]
    },
    {
     "data": {
      "image/png": "[encoded data removed]",
      "text/plain": [
       "<Figure size 640x480 with 1 Axes>"
      ]
     },
     "metadata": {},
     "output_type": "display_data"
    }
   ],
   "source": [
    "learner.fit_epochs(10)\n",
    "learner.plot_training()"
   ]
  },
  {
   "cell_type": "code",
   "execution_count": null,
   "metadata": {},
   "outputs": [
    {
     "name": "stderr",
     "output_type": "stream",
     "text": [
      "/var/folders/yl/qjs6b9wn4zx7nh630c4my9lw0000gn/T/ipykernel_74963/2206214718.py:6: UserWarning: To copy construct from a tensor, it is recommended to use sourceTensor.clone().detach() or sourceTensor.clone().detach().requires_grad_(True), rather than torch.tensor(sourceTensor).\n",
      "  x = [torch.tensor(text, dtype=torch.long) for text in x]\n"
     ]
    },
    {
     "name": "stdout",
     "output_type": "stream",
     "text": [
      "-----------------------------------------------------------\n",
      "| end of epoch   0 | time: 20.06s | train accuracy    0.783 | valid accuracy    0.726 | lr: 0.00\n",
      "-----------------------------------------------------------\n",
      "| end of epoch   1 | time: 19.88s | train accuracy    0.784 | valid accuracy    0.717 | lr: 0.00\n",
      "-----------------------------------------------------------\n",
      "| end of epoch   2 | time: 19.90s | train accuracy    0.793 | valid accuracy    0.720 | lr: 0.00\n",
      "-----------------------------------------------------------\n",
      "| end of epoch   3 | time: 19.68s | train accuracy    0.803 | valid accuracy    0.739 | lr: 0.00\n",
      "-----------------------------------------------------------\n",
      "| end of epoch   4 | time: 20.04s | train accuracy    0.798 | valid accuracy    0.731 | lr: 0.00\n",
      "-----------------------------------------------------------\n",
      "| end of epoch   5 | time: 19.83s | train accuracy    0.810 | valid accuracy    0.752 | lr: 0.00\n",
      "-----------------------------------------------------------\n",
      "| end of epoch   6 | time: 19.62s | train accuracy    0.814 | valid accuracy    0.743 | lr: 0.00\n",
      "-----------------------------------------------------------\n",
      "| end of epoch   7 | time: 19.67s | train accuracy    0.810 | valid accuracy    0.730 | lr: 0.00\n",
      "-----------------------------------------------------------\n",
      "| end of epoch   8 | time: 19.56s | train accuracy    0.814 | valid accuracy    0.733 | lr: 0.00\n",
      "-----------------------------------------------------------\n",
      "| end of epoch   9 | time: 19.86s | train accuracy    0.813 | valid accuracy    0.735 | lr: 0.00\n"
     ]
    },
    {
     "data": {
      "image/png": "[encoded data removed]",
      "text/plain": [
       "<Figure size 640x480 with 1 Axes>"
      ]
     },
     "metadata": {},
     "output_type": "display_data"
    }
   ],
   "source": [
    "learner.fit_epochs(10)\n",
    "learner.plot_training()"
   ]
  },
  {
   "cell_type": "code",
   "execution_count": null,
   "metadata": {},
   "outputs": [
    {
     "data": {
      "text/html": [
       "<div>\n",
       "<style scoped>\n",
       "    .dataframe tbody tr th:only-of-type {\n",
       "        vertical-align: middle;\n",
       "    }\n",
       "\n",
       "    .dataframe tbody tr th {\n",
       "        vertical-align: top;\n",
       "    }\n",
       "\n",
       "    .dataframe thead th {\n",
       "        text-align: right;\n",
       "    }\n",
       "</style>\n",
       "<table border=\"1\" class=\"dataframe\">\n",
       "  <thead>\n",
       "    <tr style=\"text-align: right;\">\n",
       "      <th></th>\n",
       "      <th>id</th>\n",
       "      <th>keyword</th>\n",
       "      <th>location</th>\n",
       "      <th>text</th>\n",
       "    </tr>\n",
       "  </thead>\n",
       "  <tbody>\n",
       "    <tr>\n",
       "      <th>2033</th>\n",
       "      <td>6838</td>\n",
       "      <td>loud%20bang</td>\n",
       "      <td>NaN</td>\n",
       "      <td>School Bouta Start: \\n\\nBack To These Ignorant...</td>\n",
       "    </tr>\n",
       "    <tr>\n",
       "      <th>834</th>\n",
       "      <td>2742</td>\n",
       "      <td>crushed</td>\n",
       "      <td>Ottawa, ON, Canada</td>\n",
       "      <td>@Loraccee @JoeNBC @msnbc Still gets crushed by...</td>\n",
       "    </tr>\n",
       "    <tr>\n",
       "      <th>2407</th>\n",
       "      <td>8052</td>\n",
       "      <td>refugees</td>\n",
       "      <td>lbtidronegirlshell</td>\n",
       "      <td>Still wonder why they will do anything to have...</td>\n",
       "    </tr>\n",
       "    <tr>\n",
       "      <th>1018</th>\n",
       "      <td>3348</td>\n",
       "      <td>demolished</td>\n",
       "      <td>Connecticut</td>\n",
       "      <td>That ball was fucking demolished</td>\n",
       "    </tr>\n",
       "    <tr>\n",
       "      <th>294</th>\n",
       "      <td>954</td>\n",
       "      <td>blaze</td>\n",
       "      <td>Texas</td>\n",
       "      <td>I liked a @YouTube video from @ashens http://t...</td>\n",
       "    </tr>\n",
       "  </tbody>\n",
       "</table>\n",
       "</div>"
      ],
      "text/plain": [
       "        id      keyword             location  \\\n",
       "2033  6838  loud%20bang                  NaN   \n",
       "834   2742      crushed   Ottawa, ON, Canada   \n",
       "2407  8052     refugees  lbtidronegirlshell    \n",
       "1018  3348   demolished          Connecticut   \n",
       "294    954        blaze                Texas   \n",
       "\n",
       "                                                   text  \n",
       "2033  School Bouta Start: \\n\\nBack To These Ignorant...  \n",
       "834   @Loraccee @JoeNBC @msnbc Still gets crushed by...  \n",
       "2407  Still wonder why they will do anything to have...  \n",
       "1018                   That ball was fucking demolished  \n",
       "294   I liked a @YouTube video from @ashens http://t...  "
      ]
     },
     "execution_count": 93,
     "metadata": {},
     "output_type": "execute_result"
    }
   ],
   "source": [
    "local_test_path='test.csv'\n",
    "kaggle_test_path='/kaggle/input/nlp-getting-started/test.csv'\n",
    "\n",
    "df_submission_test_data=pd.read_csv(kaggle_test_path if kaggle else local_test_path)\n",
    "df_submission_test_data.sample(5)"
   ]
  },
  {
   "cell_type": "code",
   "execution_count": null,
   "metadata": {},
   "outputs": [],
   "source": [
    "# label encode keyword using trained label encoder\n",
    "df_submission_test_data['keyword'] = le.transform(df_submission_test_data['keyword'].fillna(''))"
   ]
  },
  {
   "cell_type": "code",
   "execution_count": null,
   "metadata": {},
   "outputs": [],
   "source": [
    "def collate_batch_test_data(batch):\n",
    "    x, keywords = zip(*batch)\n",
    "    # collate for embedding bag\n",
    "    empty_dummy_for_fixed_length = torch.zeros(sequence_length, dtype=torch.long)\n",
    "    x = torch.stack([torch.cat((text, empty_dummy_for_fixed_length))[:sequence_length] for text in x])\n",
    "    keywords=torch.stack(keywords)\n",
    "    return x, keywords"
   ]
  },
  {
   "cell_type": "code",
   "execution_count": null,
   "metadata": {},
   "outputs": [],
   "source": [
    "model.eval()\n",
    "preds=[]\n",
    "test_dataset=DisasterTweetsDataset(df_submission_test_data, vocab_size=vocab_size, test=True)\n",
    "test_dataloader = DataLoader(test_dataset, batch_size=BATCH_SIZE, collate_fn=collate_batch_test_data)\n",
    "with torch.no_grad():\n",
    "    for idx, (x, keywords) in enumerate(test_dataloader):\n",
    "        x=x.to(device)\n",
    "        keywords=keywords.to(device)\n",
    "        predicted_label = model(x, keywords)\n",
    "        preds.extend(predicted_label.argmax(1).tolist())\n",
    "\n",
    "df_submission_test_data[\"target\"]=preds\n",
    "df_submission_test_data[[\"id\", \"target\"]].to_csv(\"submission_04.csv\", index=False)"
   ]
  },
  {
   "cell_type": "code",
   "execution_count": null,
   "metadata": {},
   "outputs": [],
   "source": [
    "# Score: 0.76861"
   ]
  },
  {
   "cell_type": "code",
   "execution_count": null,
   "metadata": {},
   "outputs": [],
   "source": []
  }
 ],
 "metadata": {
  "kernelspec": {
   "display_name": "torch_ds",
   "language": "python",
   "name": "python3"
  },
  "language_info": {
   "codemirror_mode": {
    "name": "ipython",
    "version": 3
   },
   "file_extension": ".py",
   "mimetype": "text/x-python",
   "name": "python",
   "nbconvert_exporter": "python",
   "pygments_lexer": "ipython3",
   "version": "3.10.13"
  }
 },
 "nbformat": 4,
 "nbformat_minor": 2
}
